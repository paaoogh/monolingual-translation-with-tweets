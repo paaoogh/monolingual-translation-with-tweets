{
 "cells": [
  {
   "cell_type": "code",
   "execution_count": 1,
   "id": "c3a99529-6cf4-4189-b351-9a12733ddb49",
   "metadata": {},
   "outputs": [],
   "source": [
    "import pandas as pd"
   ]
  },
  {
   "cell_type": "code",
   "execution_count": 2,
   "id": "6a288ef4-c358-46b9-93f2-afd464ea0558",
   "metadata": {},
   "outputs": [],
   "source": [
    "tweets_hombres = pd.read_csv(\"/notebooks/notebooks/tweets_hombres.csv\",index_col = \"Unnamed: 0\")\n",
    "tweets_mujeres = pd.read_csv(\"/notebooks/notebooks/tweets_mujeres.csv\",index_col = \"Unnamed: 0\")"
   ]
  },
  {
   "cell_type": "code",
   "execution_count": 3,
   "id": "163f3ad9-b238-4a8b-8bc7-b57128ff2b99",
   "metadata": {},
   "outputs": [],
   "source": [
    "hombres = list(tweets_hombres[\"tweet\"])\n",
    "mujeres = list(tweets_mujeres[\"tweet\"])"
   ]
  },
  {
   "cell_type": "code",
   "execution_count": 6,
   "id": "9737cac7-774f-4598-81e6-4dd3122781f9",
   "metadata": {
    "tags": []
   },
   "outputs": [],
   "source": [
    "def add_recurrences(palabras):\n",
    "    global diccionario\n",
    "    for word in palabras:\n",
    "        if \"https:\" in word: continue\n",
    "        if word in diccionario.keys():\n",
    "            diccionario[word] += 1\n",
    "        else:\n",
    "            diccionario[word] = 1"
   ]
  },
  {
   "cell_type": "code",
   "execution_count": 7,
   "id": "f3231b9c-4d3e-471d-90ff-b7deb4665591",
   "metadata": {
    "tags": []
   },
   "outputs": [],
   "source": [
    "def process(corpus):\n",
    "    global diccionario\n",
    "    \n",
    "    count = 0\n",
    "    diccionario = {}\n",
    "    for enunciado in corpus:\n",
    "        \n",
    "        lista_palabras = enunciado.split()\n",
    "        add_recurrences(lista_palabras)\n",
    "        count += 1\n",
    "    return diccionario"
   ]
  },
  {
   "cell_type": "code",
   "execution_count": 8,
   "id": "0c49c7c6-47bb-4dc7-9165-a532089cdb77",
   "metadata": {
    "tags": []
   },
   "outputs": [],
   "source": [
    "dic_mujeres = process(mujeres)"
   ]
  },
  {
   "cell_type": "code",
   "execution_count": 9,
   "id": "b8f81fb3-2871-466b-8d22-689545323b7b",
   "metadata": {},
   "outputs": [],
   "source": [
    "dic_hombres = process(hombres)"
   ]
  },
  {
   "cell_type": "code",
   "execution_count": 10,
   "id": "f85c7ca0-fa5b-4612-86f6-7081fa7c7360",
   "metadata": {},
   "outputs": [
    {
     "data": {
      "text/plain": [
       "(228100, 141364)"
      ]
     },
     "execution_count": 10,
     "metadata": {},
     "output_type": "execute_result"
    }
   ],
   "source": [
    "len(dic_mujeres), len(dic_hombres)"
   ]
  },
  {
   "cell_type": "code",
   "execution_count": 23,
   "id": "dbcc6d5c-fb93-4da4-b839-276df60b36b2",
   "metadata": {},
   "outputs": [],
   "source": [
    "df_m = pd.DataFrame({\"word\":list(dic_mujeres.keys()), \"frequence\":list(dic_mujeres.values())})\n",
    "df_h = pd.DataFrame({\"word\":list(dic_hombres.keys()), \"frequence\":list(dic_hombres.values())})"
   ]
  },
  {
   "cell_type": "code",
   "execution_count": 24,
   "id": "eeaf2942-cee5-4349-a1e1-82c1dc091d7b",
   "metadata": {},
   "outputs": [],
   "source": [
    "df_m.set_index(\"word\",inplace=True)\n",
    "df_h.set_index(\"word\",inplace=True)"
   ]
  },
  {
   "cell_type": "code",
   "execution_count": 27,
   "id": "7ce2bdd1-17ea-4093-88d9-f493a80b4bf3",
   "metadata": {},
   "outputs": [],
   "source": [
    "df_m = df_m.sort_values(by=[\"frequence\"],ascending=False)\n",
    "df_h = df_h.sort_values(by=[\"frequence\"],ascending=False)"
   ]
  },
  {
   "cell_type": "markdown",
   "id": "509ff061-bb2c-498e-8e4a-00e0a1e0b00c",
   "metadata": {},
   "source": [
    "# Encoding"
   ]
  },
  {
   "cell_type": "code",
   "execution_count": 31,
   "id": "335e6f74-5d83-4ac8-a839-f673c456c19d",
   "metadata": {},
   "outputs": [],
   "source": [
    "from transformers import BertTokenizer, BertConfig\n",
    "from transformers import BertForPreTraining, BertForMaskedLM"
   ]
  },
  {
   "cell_type": "code",
   "execution_count": 36,
   "id": "7d70667b-6fcf-4f3a-bbef-2a56c27fcd63",
   "metadata": {},
   "outputs": [],
   "source": [
    "mujeres_model_filepath = '/notebooks/notebooks/my_model_checkpoints_ellas/' \n",
    "hombres_model_filepath = '/notebooks/notebooks/my_model_checkpoints_ellos/'\n",
    "\n",
    "mujeres_model = BertTokenizer.from_pretrained(mujeres_model_filepath)\n",
    "hombres_model = BertTokenizer.from_pretrained(hombres_model_filepath)"
   ]
  },
  {
   "cell_type": "code",
   "execution_count": 45,
   "id": "8aac2d3f-985d-4b6d-9039-3c087f3dc286",
   "metadata": {},
   "outputs": [],
   "source": [
    "def encode_corpus(model, diccionario):\n",
    "    embeddings = {}\n",
    "    for i in diccionario.keys():\n",
    "        embeddings[i] = model.encode(i, return_tensors=\"np\",padding=\"max_length\",max_length=5,truncation=True)\n",
    "    return embeddings"
   ]
  },
  {
   "cell_type": "code",
   "execution_count": 46,
   "id": "dcda9b3f-9800-483b-afa3-530e09b1280e",
   "metadata": {},
   "outputs": [],
   "source": [
    "embeddings_mujeres = encode_corpus(mujeres_model, dic_mujeres)"
   ]
  },
  {
   "cell_type": "code",
   "execution_count": 47,
   "id": "4bfaab85-3040-41cd-855a-60a3e3b2bc14",
   "metadata": {},
   "outputs": [],
   "source": [
    "embeddings_hombres = encode_corpus(hombres_model, dic_hombres)"
   ]
  },
  {
   "cell_type": "code",
   "execution_count": 48,
   "id": "bd90d25e-1324-44f9-b6ee-5d33a4d3b063",
   "metadata": {},
   "outputs": [],
   "source": [
    "df_m = pd.DataFrame({\"word\":list(dic_mujeres.keys()), \n",
    "                     \"frequence\":list(dic_mujeres.values()),\n",
    "                     \"embedding\":list(embeddings_mujeres.values())})\n",
    "\n",
    "df_h = pd.DataFrame({\"word\":list(dic_hombres.keys()), \n",
    "                     \"frequence\":list(dic_hombres.values()),\n",
    "                    \"embedding\":list(embeddings_hombres.values())})"
   ]
  },
  {
   "cell_type": "code",
   "execution_count": 49,
   "id": "16aa775f-9930-498b-ae52-0a6a91aed1b7",
   "metadata": {},
   "outputs": [],
   "source": [
    "df_m.set_index(\"word\",inplace=True)\n",
    "df_h.set_index(\"word\",inplace=True)\n",
    "\n",
    "df_m = df_m.sort_values(by=[\"frequence\"],ascending=False)\n",
    "df_h = df_h.sort_values(by=[\"frequence\"],ascending=False)"
   ]
  },
  {
   "cell_type": "code",
   "execution_count": 51,
   "id": "dbdc5a5e-88b8-476e-9f36-a0780f5ce76b",
   "metadata": {},
   "outputs": [],
   "source": [
    "df_m.to_csv(\"embeddings/mujeres_encoded.csv\")\n",
    "df_h.to_csv(\"embeddings/hombres_encoded.csv\")"
   ]
  },
  {
   "cell_type": "code",
   "execution_count": null,
   "id": "ea541e82-c30a-4e4f-a24c-5ecc0412112b",
   "metadata": {},
   "outputs": [],
   "source": []
  }
 ],
 "metadata": {
  "kernelspec": {
   "display_name": "Python 3 (ipykernel)",
   "language": "python",
   "name": "python3"
  },
  "language_info": {
   "codemirror_mode": {
    "name": "ipython",
    "version": 3
   },
   "file_extension": ".py",
   "mimetype": "text/x-python",
   "name": "python",
   "nbconvert_exporter": "python",
   "pygments_lexer": "ipython3",
   "version": "3.9.13"
  }
 },
 "nbformat": 4,
 "nbformat_minor": 5
}
