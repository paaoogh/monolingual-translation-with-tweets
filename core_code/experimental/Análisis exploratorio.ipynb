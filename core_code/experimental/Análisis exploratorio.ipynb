{
 "cells": [
  {
   "cell_type": "code",
   "execution_count": 1,
   "id": "8fdab7b6",
   "metadata": {},
   "outputs": [],
   "source": [
    "import pandas as pd\n",
    "import glob\n",
    "import scipy \n",
    "import numpy as np\n",
    "import matplotlib.pyplot as plt\n",
    "import seaborn as sns"
   ]
  },
  {
   "cell_type": "code",
   "execution_count": 9,
   "id": "69b83426",
   "metadata": {},
   "outputs": [],
   "source": [
    "df_usuario = pd.read_csv(\"usuarios_completo.csv\")"
   ]
  },
  {
   "cell_type": "code",
   "execution_count": 33,
   "id": "6a4becb9",
   "metadata": {},
   "outputs": [
    {
     "name": "stdout",
     "output_type": "stream",
     "text": [
      "10k_frecuencias_corpus.csv         \u001b[34mmy_model_checkpoints_ellas\u001b[m\u001b[m/\r\n",
      "10k_mas_comunes.csv                \u001b[34mmy_model_checkpoints_ellas_albeto\u001b[m\u001b[m/\r\n",
      "BETO twitter - fallo.ipynb         \u001b[34mmy_model_checkpoints_ellos\u001b[m\u001b[m/\r\n",
      "Entrenando BETO.ipynb              \u001b[34mmy_model_checkpoints_ellos_albeto\u001b[m\u001b[m/\r\n",
      "Entrenando albeto.ipynb            \u001b[34mresults_thesis\u001b[m\u001b[m/\r\n",
      "Untitled.ipynb                     traducciones_comunes.csv\r\n",
      "encoding_words.ipynb               traducciones_comunes2.csv\r\n",
      "gobernadoras_small.csv             traducciones_stopwords2.csv\r\n",
      "gobernadores_small.csv             tweets_hombres.csv\r\n",
      "\u001b[34mideas mias\u001b[m\u001b[m/                        tweets_mujeres.csv\r\n"
     ]
    }
   ],
   "source": [
    "ls paperspace"
   ]
  },
  {
   "cell_type": "code",
   "execution_count": 71,
   "id": "e8b43f50",
   "metadata": {},
   "outputs": [],
   "source": [
    "df_dip = pd.read_csv(\"dip.csv\")\n",
    "df_premun = pd.read_csv(\"premun.csv\")\n",
    "df_sec = pd.read_csv(\"secr.csv\")\n",
    "df_sen = pd.read_csv(\"sena.csv\")\n",
    "df_gob = pd.read_csv(\"gobernadorxs.csv\")"
   ]
  },
  {
   "cell_type": "code",
   "execution_count": 72,
   "id": "9e2b3aaa",
   "metadata": {},
   "outputs": [
    {
     "data": {
      "text/plain": [
       "(12, 12, 12, 11, 11)"
      ]
     },
     "execution_count": 72,
     "metadata": {},
     "output_type": "execute_result"
    }
   ],
   "source": [
    "len(df_dip.columns),len(df_premun.columns),len(df_sec.columns),len(df_sen.columns),len(df_gob.columns)"
   ]
  },
  {
   "cell_type": "code",
   "execution_count": 73,
   "id": "141af5ef",
   "metadata": {},
   "outputs": [],
   "source": [
    "df_politicxs = pd.concat([df_dip.drop(\"Comentarios\",axis=1), df_premun.drop(\"Comentarios\",axis=1),\n",
    "                          df_sec,df_sen,df_gob])"
   ]
  },
  {
   "cell_type": "code",
   "execution_count": 74,
   "id": "538b2cf7",
   "metadata": {},
   "outputs": [
    {
     "data": {
      "text/plain": [
       "(204, 140, 17, 32, 39)"
      ]
     },
     "execution_count": 74,
     "metadata": {},
     "output_type": "execute_result"
    }
   ],
   "source": [
    "len(df_dip),len(df_sen), len(df_sec), len(df_gob), len(df_premun)"
   ]
  },
  {
   "cell_type": "markdown",
   "id": "058870bc",
   "metadata": {},
   "source": [
    "Tenemos a Mauricio Kuri y a Rubén Rocha en dos ocasiones. Tomar en cuenta que no son 432, sino 430"
   ]
  },
  {
   "cell_type": "code",
   "execution_count": 75,
   "id": "ec82ef83",
   "metadata": {
    "scrolled": true
   },
   "outputs": [
    {
     "data": {
      "text/html": [
       "<div>\n",
       "<style scoped>\n",
       "    .dataframe tbody tr th:only-of-type {\n",
       "        vertical-align: middle;\n",
       "    }\n",
       "\n",
       "    .dataframe tbody tr th {\n",
       "        vertical-align: top;\n",
       "    }\n",
       "\n",
       "    .dataframe thead th {\n",
       "        text-align: right;\n",
       "    }\n",
       "</style>\n",
       "<table border=\"1\" class=\"dataframe\">\n",
       "  <thead>\n",
       "    <tr style=\"text-align: right;\">\n",
       "      <th></th>\n",
       "      <th>Nombre</th>\n",
       "      <th>Puesto</th>\n",
       "      <th>Usuario</th>\n",
       "      <th>Ubicación</th>\n",
       "      <th>Fecha de inicio</th>\n",
       "      <th>Fecha de término</th>\n",
       "      <th>Seguidores</th>\n",
       "      <th>Tweets hechos</th>\n",
       "      <th>Tweets respuesta</th>\n",
       "      <th>Componente SG</th>\n",
       "      <th>Edad</th>\n",
       "      <th>Unnamed: 11</th>\n",
       "      <th>Ubicación</th>\n",
       "    </tr>\n",
       "  </thead>\n",
       "  <tbody>\n",
       "    <tr>\n",
       "      <th>22</th>\n",
       "      <td>Mauricio Kuri González</td>\n",
       "      <td>Gobernador</td>\n",
       "      <td>@makugo</td>\n",
       "      <td>NaN</td>\n",
       "      <td>21-10-1</td>\n",
       "      <td>30-9-27</td>\n",
       "      <td>NaN</td>\n",
       "      <td>NaN</td>\n",
       "      <td>NaN</td>\n",
       "      <td>H</td>\n",
       "      <td>53.0</td>\n",
       "      <td>NaN</td>\n",
       "      <td>Querétaro</td>\n",
       "    </tr>\n",
       "    <tr>\n",
       "      <th>25</th>\n",
       "      <td>Rubén Rocha Moya</td>\n",
       "      <td>Gobernador</td>\n",
       "      <td>@rochamoya_\\n</td>\n",
       "      <td>NaN</td>\n",
       "      <td>21-11-1</td>\n",
       "      <td>31-10-27</td>\n",
       "      <td>NaN</td>\n",
       "      <td>NaN</td>\n",
       "      <td>NaN</td>\n",
       "      <td>H</td>\n",
       "      <td>73.0</td>\n",
       "      <td>NaN</td>\n",
       "      <td>Sinaloa</td>\n",
       "    </tr>\n",
       "  </tbody>\n",
       "</table>\n",
       "</div>"
      ],
      "text/plain": [
       "                    Nombre      Puesto        Usuario Ubicación   \\\n",
       "22  Mauricio Kuri González  Gobernador        @makugo        NaN   \n",
       "25        Rubén Rocha Moya  Gobernador  @rochamoya_\\n        NaN   \n",
       "\n",
       "   Fecha de inicio Fecha de término  Seguidores  Tweets hechos  \\\n",
       "22         21-10-1          30-9-27         NaN            NaN   \n",
       "25         21-11-1         31-10-27         NaN            NaN   \n",
       "\n",
       "    Tweets respuesta Componente SG  Edad  Unnamed: 11  Ubicación  \n",
       "22               NaN             H  53.0          NaN  Querétaro  \n",
       "25               NaN             H  73.0          NaN    Sinaloa  "
      ]
     },
     "execution_count": 75,
     "metadata": {},
     "output_type": "execute_result"
    }
   ],
   "source": [
    "df_politicxs[df_politicxs[\"Nombre\"].duplicated()]"
   ]
  },
  {
   "cell_type": "code",
   "execution_count": null,
   "id": "c7037492",
   "metadata": {},
   "outputs": [],
   "source": []
  },
  {
   "cell_type": "code",
   "execution_count": 77,
   "id": "a2cbd5d3",
   "metadata": {},
   "outputs": [],
   "source": [
    "n = len(df_politicxs) - 2"
   ]
  },
  {
   "cell_type": "code",
   "execution_count": 81,
   "id": "5fe382db",
   "metadata": {},
   "outputs": [],
   "source": [
    "df_a = df_politicxs[df_politicxs[\"Componente SG\"] == \"M\"]\n",
    "df_o = df_politicxs[df_politicxs[\"Componente SG\"] == \"H\"]"
   ]
  },
  {
   "cell_type": "code",
   "execution_count": 90,
   "id": "cc1b7033",
   "metadata": {},
   "outputs": [
    {
     "data": {
      "text/plain": [
       "(195, 235, 432)"
      ]
     },
     "execution_count": 90,
     "metadata": {},
     "output_type": "execute_result"
    }
   ],
   "source": [
    "len(df_a),len(df_o)-2, len(df_politicxs)"
   ]
  },
  {
   "cell_type": "code",
   "execution_count": 88,
   "id": "80d28345",
   "metadata": {},
   "outputs": [
    {
     "data": {
      "text/plain": [
       "0.4513888888888889"
      ]
     },
     "execution_count": 88,
     "metadata": {},
     "output_type": "execute_result"
    }
   ],
   "source": [
    "len(df_a)/(len(df_politicxs)-2)"
   ]
  },
  {
   "cell_type": "code",
   "execution_count": 89,
   "id": "604b4759",
   "metadata": {},
   "outputs": [
    {
     "data": {
      "text/plain": [
       "0.5465116279069767"
      ]
     },
     "execution_count": 89,
     "metadata": {},
     "output_type": "execute_result"
    }
   ],
   "source": [
    "(len(df_o)-2)/(len(df_politicxs)-2)"
   ]
  },
  {
   "cell_type": "code",
   "execution_count": 119,
   "id": "b24a8144",
   "metadata": {},
   "outputs": [],
   "source": [
    "df_sin_usuario = df_politicxs[df_politicxs['Usuario'].isna()==True]\n",
    "df_sin_usuario_m = df_sin_usuario[df_sin_usuario[\"Componente SG\"]==\"M\"]\n",
    "df_sin_usuario_h = df_sin_usuario[df_sin_usuario[\"Componente SG\"]==\"H\"]"
   ]
  },
  {
   "cell_type": "code",
   "execution_count": 120,
   "id": "4afaa6eb",
   "metadata": {},
   "outputs": [
    {
     "data": {
      "text/plain": [
       "(37, 16, 21)"
      ]
     },
     "execution_count": 120,
     "metadata": {},
     "output_type": "execute_result"
    }
   ],
   "source": [
    "len(df_sin_usuario),len(df_sin_usuario_m),len(df_sin_usuario_h)"
   ]
  },
  {
   "cell_type": "markdown",
   "id": "1560a0a2",
   "metadata": {},
   "source": [
    "Acerca de lxs que sí tienen usuario de Twitter."
   ]
  },
  {
   "cell_type": "code",
   "execution_count": 121,
   "id": "3eab0799",
   "metadata": {},
   "outputs": [],
   "source": [
    "usuarixs= df_politicxs[df_politicxs['Usuario'].isna()==False]\n",
    "usuarias = usuarixs[usuarixs[\"Componente SG\"]==\"M\"]\n",
    "usuarios = usuarixs[usuarixs[\"Componente SG\"]==\"H\"]"
   ]
  },
  {
   "cell_type": "code",
   "execution_count": 133,
   "id": "8036ec2b",
   "metadata": {},
   "outputs": [],
   "source": [
    "edad_ellas = usuarias[usuarias[\"Edad\"].isna()==False]\n",
    "edad_ellas = list(edad_ellas.Edad)"
   ]
  },
  {
   "cell_type": "code",
   "execution_count": 144,
   "id": "27e11d50",
   "metadata": {},
   "outputs": [],
   "source": [
    "edad_ellos = usuarios[usuarios[\"Edad\"].isna()==False]\n",
    "edad_ellos = list(edad_ellos.Edad)"
   ]
  },
  {
   "cell_type": "code",
   "execution_count": 145,
   "id": "22aea2ee",
   "metadata": {},
   "outputs": [
    {
     "data": {
      "text/plain": [
       "48.86470588235294"
      ]
     },
     "execution_count": 145,
     "metadata": {},
     "output_type": "execute_result"
    }
   ],
   "source": [
    "sum(edad_ellas)/len(edad_ellas)"
   ]
  },
  {
   "cell_type": "code",
   "execution_count": 146,
   "id": "6e35c40c",
   "metadata": {},
   "outputs": [
    {
     "data": {
      "text/plain": [
       "53.5"
      ]
     },
     "execution_count": 146,
     "metadata": {},
     "output_type": "execute_result"
    }
   ],
   "source": [
    "sum(edad_ellos)/len(edad_ellos)"
   ]
  },
  {
   "cell_type": "code",
   "execution_count": 149,
   "id": "00e7e4ce",
   "metadata": {},
   "outputs": [
    {
     "data": {
      "text/plain": [
       "<AxesSubplot:>"
      ]
     },
     "execution_count": 149,
     "metadata": {},
     "output_type": "execute_result"
    },
    {
     "data": {
      "image/png": "[encoded data removed]",
      "text/plain": [
       "<Figure size 432x288 with 1 Axes>"
      ]
     },
     "metadata": {
      "needs_background": "light"
     },
     "output_type": "display_data"
    }
   ],
   "source": [
    "sns.boxplot(data= [edad_ellas, edad_ellos], orient='h')"
   ]
  },
  {
   "cell_type": "code",
   "execution_count": 153,
   "id": "3480930d",
   "metadata": {},
   "outputs": [
    {
     "ename": "ValueError",
     "evalue": "columns overlap but no suffix specified: Index(['Nombre', 'Puesto', 'Usuario', 'Ubicación ', 'Fecha de inicio',\n       'Fecha de término', 'Seguidores', 'Tweets hechos', 'Tweets respuesta',\n       'Componente SG', 'Edad', 'Unnamed: 11'],\n      dtype='object')",
     "output_type": "error",
     "traceback": [
      "\u001b[0;31m---------------------------------------------------------------------------\u001b[0m",
      "\u001b[0;31mValueError\u001b[0m                                Traceback (most recent call last)",
      "\u001b[0;32m/var/folders/yg/8zcq2v792dsc6mtj76hhm5fw0000gn/T/ipykernel_41267/4020402559.py\u001b[0m in \u001b[0;36m<module>\u001b[0;34m\u001b[0m\n\u001b[0;32m----> 1\u001b[0;31m \u001b[0mmerged\u001b[0m \u001b[0;34m=\u001b[0m \u001b[0musuarixs\u001b[0m\u001b[0;34m.\u001b[0m\u001b[0mset_index\u001b[0m\u001b[0;34m(\u001b[0m\u001b[0;34m'Ubicación'\u001b[0m\u001b[0;34m)\u001b[0m\u001b[0;34m.\u001b[0m\u001b[0mjoin\u001b[0m\u001b[0;34m(\u001b[0m\u001b[0musuarixs\u001b[0m\u001b[0;34m.\u001b[0m\u001b[0mset_index\u001b[0m\u001b[0;34m(\u001b[0m\u001b[0;34m'Ubicación'\u001b[0m\u001b[0;34m)\u001b[0m\u001b[0;34m)\u001b[0m\u001b[0;34m\u001b[0m\u001b[0;34m\u001b[0m\u001b[0m\n\u001b[0m\u001b[1;32m      2\u001b[0m \u001b[0mmerged\u001b[0m\u001b[0;34m.\u001b[0m\u001b[0mhead\u001b[0m\u001b[0;34m(\u001b[0m\u001b[0;34m)\u001b[0m\u001b[0;34m\u001b[0m\u001b[0;34m\u001b[0m\u001b[0m\n",
      "\u001b[0;32m/opt/anaconda3/lib/python3.8/site-packages/pandas/core/frame.py\u001b[0m in \u001b[0;36mjoin\u001b[0;34m(self, other, on, how, lsuffix, rsuffix, sort)\u001b[0m\n\u001b[1;32m   9097\u001b[0m         \u001b[0;36m5\u001b[0m  \u001b[0mK5\u001b[0m  \u001b[0mA5\u001b[0m  \u001b[0mNaN\u001b[0m\u001b[0;34m\u001b[0m\u001b[0;34m\u001b[0m\u001b[0m\n\u001b[1;32m   9098\u001b[0m         \"\"\"\n\u001b[0;32m-> 9099\u001b[0;31m         return self._join_compat(\n\u001b[0m\u001b[1;32m   9100\u001b[0m             \u001b[0mother\u001b[0m\u001b[0;34m,\u001b[0m \u001b[0mon\u001b[0m\u001b[0;34m=\u001b[0m\u001b[0mon\u001b[0m\u001b[0;34m,\u001b[0m \u001b[0mhow\u001b[0m\u001b[0;34m=\u001b[0m\u001b[0mhow\u001b[0m\u001b[0;34m,\u001b[0m \u001b[0mlsuffix\u001b[0m\u001b[0;34m=\u001b[0m\u001b[0mlsuffix\u001b[0m\u001b[0;34m,\u001b[0m \u001b[0mrsuffix\u001b[0m\u001b[0;34m=\u001b[0m\u001b[0mrsuffix\u001b[0m\u001b[0;34m,\u001b[0m \u001b[0msort\u001b[0m\u001b[0;34m=\u001b[0m\u001b[0msort\u001b[0m\u001b[0;34m\u001b[0m\u001b[0;34m\u001b[0m\u001b[0m\n\u001b[1;32m   9101\u001b[0m         )\n",
      "\u001b[0;32m/opt/anaconda3/lib/python3.8/site-packages/pandas/core/frame.py\u001b[0m in \u001b[0;36m_join_compat\u001b[0;34m(self, other, on, how, lsuffix, rsuffix, sort)\u001b[0m\n\u001b[1;32m   9128\u001b[0m                     \u001b[0msort\u001b[0m\u001b[0;34m=\u001b[0m\u001b[0msort\u001b[0m\u001b[0;34m,\u001b[0m\u001b[0;34m\u001b[0m\u001b[0;34m\u001b[0m\u001b[0m\n\u001b[1;32m   9129\u001b[0m                 )\n\u001b[0;32m-> 9130\u001b[0;31m             return merge(\n\u001b[0m\u001b[1;32m   9131\u001b[0m                 \u001b[0mself\u001b[0m\u001b[0;34m,\u001b[0m\u001b[0;34m\u001b[0m\u001b[0;34m\u001b[0m\u001b[0m\n\u001b[1;32m   9132\u001b[0m                 \u001b[0mother\u001b[0m\u001b[0;34m,\u001b[0m\u001b[0;34m\u001b[0m\u001b[0;34m\u001b[0m\u001b[0m\n",
      "\u001b[0;32m/opt/anaconda3/lib/python3.8/site-packages/pandas/core/reshape/merge.py\u001b[0m in \u001b[0;36mmerge\u001b[0;34m(left, right, how, on, left_on, right_on, left_index, right_index, sort, suffixes, copy, indicator, validate)\u001b[0m\n\u001b[1;32m    119\u001b[0m         \u001b[0mvalidate\u001b[0m\u001b[0;34m=\u001b[0m\u001b[0mvalidate\u001b[0m\u001b[0;34m,\u001b[0m\u001b[0;34m\u001b[0m\u001b[0;34m\u001b[0m\u001b[0m\n\u001b[1;32m    120\u001b[0m     )\n\u001b[0;32m--> 121\u001b[0;31m     \u001b[0;32mreturn\u001b[0m \u001b[0mop\u001b[0m\u001b[0;34m.\u001b[0m\u001b[0mget_result\u001b[0m\u001b[0;34m(\u001b[0m\u001b[0;34m)\u001b[0m\u001b[0;34m\u001b[0m\u001b[0;34m\u001b[0m\u001b[0m\n\u001b[0m\u001b[1;32m    122\u001b[0m \u001b[0;34m\u001b[0m\u001b[0m\n\u001b[1;32m    123\u001b[0m \u001b[0;34m\u001b[0m\u001b[0m\n",
      "\u001b[0;32m/opt/anaconda3/lib/python3.8/site-packages/pandas/core/reshape/merge.py\u001b[0m in \u001b[0;36mget_result\u001b[0;34m(self)\u001b[0m\n\u001b[1;32m    715\u001b[0m         \u001b[0mjoin_index\u001b[0m\u001b[0;34m,\u001b[0m \u001b[0mleft_indexer\u001b[0m\u001b[0;34m,\u001b[0m \u001b[0mright_indexer\u001b[0m \u001b[0;34m=\u001b[0m \u001b[0mself\u001b[0m\u001b[0;34m.\u001b[0m\u001b[0m_get_join_info\u001b[0m\u001b[0;34m(\u001b[0m\u001b[0;34m)\u001b[0m\u001b[0;34m\u001b[0m\u001b[0;34m\u001b[0m\u001b[0m\n\u001b[1;32m    716\u001b[0m \u001b[0;34m\u001b[0m\u001b[0m\n\u001b[0;32m--> 717\u001b[0;31m         llabels, rlabels = _items_overlap_with_suffix(\n\u001b[0m\u001b[1;32m    718\u001b[0m             \u001b[0mself\u001b[0m\u001b[0;34m.\u001b[0m\u001b[0mleft\u001b[0m\u001b[0;34m.\u001b[0m\u001b[0m_info_axis\u001b[0m\u001b[0;34m,\u001b[0m \u001b[0mself\u001b[0m\u001b[0;34m.\u001b[0m\u001b[0mright\u001b[0m\u001b[0;34m.\u001b[0m\u001b[0m_info_axis\u001b[0m\u001b[0;34m,\u001b[0m \u001b[0mself\u001b[0m\u001b[0;34m.\u001b[0m\u001b[0msuffixes\u001b[0m\u001b[0;34m\u001b[0m\u001b[0;34m\u001b[0m\u001b[0m\n\u001b[1;32m    719\u001b[0m         )\n",
      "\u001b[0;32m/opt/anaconda3/lib/python3.8/site-packages/pandas/core/reshape/merge.py\u001b[0m in \u001b[0;36m_items_overlap_with_suffix\u001b[0;34m(left, right, suffixes)\u001b[0m\n\u001b[1;32m   2306\u001b[0m \u001b[0;34m\u001b[0m\u001b[0m\n\u001b[1;32m   2307\u001b[0m     \u001b[0;32mif\u001b[0m \u001b[0;32mnot\u001b[0m \u001b[0mlsuffix\u001b[0m \u001b[0;32mand\u001b[0m \u001b[0;32mnot\u001b[0m \u001b[0mrsuffix\u001b[0m\u001b[0;34m:\u001b[0m\u001b[0;34m\u001b[0m\u001b[0;34m\u001b[0m\u001b[0m\n\u001b[0;32m-> 2308\u001b[0;31m         \u001b[0;32mraise\u001b[0m \u001b[0mValueError\u001b[0m\u001b[0;34m(\u001b[0m\u001b[0;34mf\"columns overlap but no suffix specified: {to_rename}\"\u001b[0m\u001b[0;34m)\u001b[0m\u001b[0;34m\u001b[0m\u001b[0;34m\u001b[0m\u001b[0m\n\u001b[0m\u001b[1;32m   2309\u001b[0m \u001b[0;34m\u001b[0m\u001b[0m\n\u001b[1;32m   2310\u001b[0m     \u001b[0;32mdef\u001b[0m \u001b[0mrenamer\u001b[0m\u001b[0;34m(\u001b[0m\u001b[0mx\u001b[0m\u001b[0;34m,\u001b[0m \u001b[0msuffix\u001b[0m\u001b[0;34m)\u001b[0m\u001b[0;34m:\u001b[0m\u001b[0;34m\u001b[0m\u001b[0;34m\u001b[0m\u001b[0m\n",
      "\u001b[0;31mValueError\u001b[0m: columns overlap but no suffix specified: Index(['Nombre', 'Puesto', 'Usuario', 'Ubicación ', 'Fecha de inicio',\n       'Fecha de término', 'Seguidores', 'Tweets hechos', 'Tweets respuesta',\n       'Componente SG', 'Edad', 'Unnamed: 11'],\n      dtype='object')"
     ]
    }
   ],
   "source": [
    "merged = usuarixs.set_index('Ubicación').join(usuarixs.set_index('Ubicación'))\n",
    "merged.head()"
   ]
  },
  {
   "cell_type": "code",
   "execution_count": 151,
   "id": "cad0ab04",
   "metadata": {},
   "outputs": [
    {
     "data": {
      "text/plain": [
       "Index(['Nombre', 'Puesto', 'Usuario', 'Ubicación ', 'Fecha de inicio',\n",
       "       'Fecha de término', 'Seguidores', 'Tweets hechos', 'Tweets respuesta',\n",
       "       'Componente SG', 'Edad', 'Unnamed: 11', 'Ubicación'],\n",
       "      dtype='object')"
      ]
     },
     "execution_count": 151,
     "metadata": {},
     "output_type": "execute_result"
    }
   ],
   "source": [
    "usuarixs.columns"
   ]
  },
  {
   "cell_type": "code",
   "execution_count": 3,
   "id": "9e7610d5",
   "metadata": {},
   "outputs": [
    {
     "data": {
      "text/plain": [
       "201038"
      ]
     },
     "execution_count": 3,
     "metadata": {},
     "output_type": "execute_result"
    }
   ],
   "source": [
    "len(pd.read_csv(\"tweets_hombres.csv\"))"
   ]
  },
  {
   "cell_type": "code",
   "execution_count": null,
   "id": "1d42a9b2",
   "metadata": {},
   "outputs": [],
   "source": []
  }
 ],
 "metadata": {
  "kernelspec": {
   "display_name": "Python 3 (ipykernel)",
   "language": "python",
   "name": "python3"
  },
  "language_info": {
   "codemirror_mode": {
    "name": "ipython",
    "version": 3
   },
   "file_extension": ".py",
   "mimetype": "text/x-python",
   "name": "python",
   "nbconvert_exporter": "python",
   "pygments_lexer": "ipython3",
   "version": "3.8.5"
  }
 },
 "nbformat": 4,
 "nbformat_minor": 5
}
