{
 "cells": [
  {
   "cell_type": "code",
   "execution_count": 1,
   "metadata": {
    "id": "-gh00yjCWOCl"
   },
   "outputs": [],
   "source": [
    "import torch\n",
    "import gc\n",
    "import transformers\n",
    "import pandas as pd\n",
    "from datasets import Dataset\n",
    "from transformers import AlbertForMaskedLM, AlbertTokenizer\n",
    "from transformers import AlbertForPreTraining, AlbertForMaskedLM\n",
    "\n",
    "\n",
    "from tqdm.auto import tqdm\n",
    "from transformers import AdamW\n",
    "import numpy as np"
   ]
  },
  {
   "cell_type": "code",
   "execution_count": 2,
   "metadata": {
    "id": "m6AKeRq8XO3x"
   },
   "outputs": [],
   "source": [
    "mujeres = pd.read_csv(\"tweets_mujeres.csv\",usecols=['id','tweet'])"
   ]
  },
  {
   "cell_type": "code",
   "execution_count": 3,
   "metadata": {},
   "outputs": [],
   "source": [
    "hombres = pd.read_csv(\"tweets_hombres.csv\",usecols=['id','tweet'])"
   ]
  },
  {
   "cell_type": "code",
   "execution_count": 4,
   "metadata": {},
   "outputs": [
    {
     "data": {
      "text/plain": [
       "RangeIndex(start=0, stop=201038, step=1)"
      ]
     },
     "execution_count": 4,
     "metadata": {},
     "output_type": "execute_result"
    }
   ],
   "source": [
    "mujeres.index"
   ]
  },
  {
   "cell_type": "code",
   "execution_count": 5,
   "metadata": {},
   "outputs": [],
   "source": [
    "import numpy as np\n",
    "\n",
    "np.random.seed(10)\n",
    "\n",
    "remove_n = len(hombres) - len(mujeres)\n",
    "drop_indices = np.random.choice(hombres.index, remove_n, replace=False)\n",
    "hombres = hombres.drop(drop_indices)"
   ]
  },
  {
   "cell_type": "code",
   "execution_count": 7,
   "metadata": {
    "id": "EOxt5Hkco1jt"
   },
   "outputs": [
    {
     "data": {
      "application/vnd.jupyter.widget-view+json": {
       "model_id": "96be416bf1a84129ac0acb5e4d6359c4",
       "version_major": 2,
       "version_minor": 0
      },
      "text/plain": [
       "Downloading:   0%|          | 0.00/828 [00:00<?, ?B/s]"
      ]
     },
     "metadata": {},
     "output_type": "display_data"
    },
    {
     "data": {
      "application/vnd.jupyter.widget-view+json": {
       "model_id": "136ff3f0fe8544b8ba100c9d5ee80a54",
       "version_major": 2,
       "version_minor": 0
      },
      "text/plain": [
       "Downloading:   0%|          | 0.00/20.7M [00:00<?, ?B/s]"
      ]
     },
     "metadata": {},
     "output_type": "display_data"
    },
    {
     "name": "stderr",
     "output_type": "stream",
     "text": [
      "Some weights of the model checkpoint at CenIA/albert-tiny-spanish were not used when initializing AlbertForMaskedLM: ['sop_classifier.classifier.bias', 'sop_classifier.classifier.weight']\n",
      "- This IS expected if you are initializing AlbertForMaskedLM from the checkpoint of a model trained on another task or with another architecture (e.g. initializing a BertForSequenceClassification model from a BertForPreTraining model).\n",
      "- This IS NOT expected if you are initializing AlbertForMaskedLM from the checkpoint of a model that you expect to be exactly identical (initializing a BertForSequenceClassification model from a BertForSequenceClassification model).\n",
      "Some weights of the model checkpoint at CenIA/albert-tiny-spanish were not used when initializing AlbertForMaskedLM: ['sop_classifier.classifier.bias', 'sop_classifier.classifier.weight']\n",
      "- This IS expected if you are initializing AlbertForMaskedLM from the checkpoint of a model trained on another task or with another architecture (e.g. initializing a BertForSequenceClassification model from a BertForPreTraining model).\n",
      "- This IS NOT expected if you are initializing AlbertForMaskedLM from the checkpoint of a model that you expect to be exactly identical (initializing a BertForSequenceClassification model from a BertForSequenceClassification model).\n"
     ]
    }
   ],
   "source": [
    "albeto = \"CenIA/albert-tiny-spanish\"\n",
    "\n",
    "tokenizer_h = AlbertTokenizer.from_pretrained(albeto, \n",
    "                        return_offset_mapping=True)\n",
    "model_h = AlbertForMaskedLM.from_pretrained(albeto, return_dict=True)\n",
    "\n",
    "tokenizer_m = AlbertTokenizer.from_pretrained(albeto, \n",
    "                        return_offset_mapping=True)\n",
    "model_m = AlbertForMaskedLM.from_pretrained(albeto, return_dict=True)\n",
    "\n",
    "\n"
   ]
  },
  {
   "cell_type": "code",
   "execution_count": 8,
   "metadata": {},
   "outputs": [
    {
     "data": {
      "text/plain": [
       "201038"
      ]
     },
     "execution_count": 8,
     "metadata": {},
     "output_type": "execute_result"
    }
   ],
   "source": [
    "len(hombres)"
   ]
  },
  {
   "cell_type": "code",
   "execution_count": 9,
   "metadata": {
    "colab": {
     "base_uri": "https://localhost:8080/"
    },
    "id": "j14agRBtsoW0",
    "outputId": "248e6e49-e8f9-4062-f9d0-160539140878"
   },
   "outputs": [
    {
     "data": {
      "text/plain": [
       "PreTrainedTokenizer(name_or_path='CenIA/albert-tiny-spanish', vocab_size=31000, model_max_len=512, is_fast=False, padding_side='right', truncation_side='right', special_tokens={'bos_token': '[CLS]', 'eos_token': '[SEP]', 'unk_token': '<unk>', 'sep_token': '[SEP]', 'pad_token': '<pad>', 'cls_token': '[CLS]', 'mask_token': '[MASK]'})"
      ]
     },
     "execution_count": 9,
     "metadata": {},
     "output_type": "execute_result"
    }
   ],
   "source": [
    "tokenizer_h"
   ]
  },
  {
   "cell_type": "code",
   "execution_count": 10,
   "metadata": {
    "id": "xheuKzK2o1gr"
   },
   "outputs": [],
   "source": [
    "def preprocess_function_mujeres(examples):\n",
    "    inputs = [ex for ex in examples[\"mujeres_tweet\"]]\n",
    "    #targets = [ex for ex in examples[\"hombres_tweet\"]]\n",
    "\n",
    "    model_inputs = tokenizer_m(inputs,\n",
    "                        #text_pair=targets,\n",
    "                        padding=\"max_length\", \n",
    "                        truncation=True,\n",
    "                        max_length=280,\n",
    "                        return_tensors='pt'\n",
    "                        )\n",
    "    return model_inputs\n",
    "\n",
    "\n",
    "def preprocess_function_hombres(examples):\n",
    "    #inputs = [ex for ex in examples[\"mujeres_tweet\"]]\n",
    "    inputs = [ex for ex in examples[\"hombres_tweet\"]]\n",
    "\n",
    "    model_inputs = tokenizer_h(inputs,\n",
    "                        #text_pair=targets,\n",
    "                        padding=\"max_length\", \n",
    "                        truncation=True,\n",
    "                        max_length=280,\n",
    "                        return_tensors='pt'\n",
    "                        )\n",
    "    return model_inputs"
   ]
  },
  {
   "cell_type": "code",
   "execution_count": 11,
   "metadata": {
    "id": "w2JqshF5o1eC"
   },
   "outputs": [],
   "source": [
    "def tokenize_sentences_mujeres(mujeres):\n",
    "    data = {\"mujeres_tweet\":list(mujeres.tweet)\n",
    "        #\"hombres_tweet\":list(hombres.tweet)\n",
    "           }\n",
    "    raw_dataset = pd.DataFrame(data)\n",
    "\n",
    "    ds = Dataset.from_pandas(raw_dataset,preserve_index=True)\n",
    "    ds = ds.rename_column('__index_level_0__','id')\n",
    "    ds = ds.train_test_split(shuffle = True, seed = 200, test_size=0.2)\n",
    "\n",
    "    train_set = preprocess_function_mujeres(ds[\"train\"])\n",
    "    test_set = preprocess_function_mujeres(ds[\"test\"])\n",
    "    \n",
    "    train_set['labels'] = train_set['input_ids'].detach().clone()\n",
    "    test_set['labels'] = test_set['input_ids'].detach().clone()\n",
    "    \n",
    "    return train_set, test_set\n",
    "            \n",
    "            \n",
    "def tokenize_sentences_hombres(hombres):\n",
    "    data = {#\"mujeres_tweet\":list(mujeres.tweet),\n",
    "        \"hombres_tweet\":list(hombres.tweet)}\n",
    "    raw_dataset = pd.DataFrame(data)\n",
    "\n",
    "    ds = Dataset.from_pandas(raw_dataset,preserve_index=True)\n",
    "    ds = ds.rename_column('__index_level_0__','id')\n",
    "    ds = ds.train_test_split(shuffle = True, seed = 200, test_size=0.2)\n",
    "\n",
    "    train_set = preprocess_function_hombres(ds[\"train\"])\n",
    "    test_set = preprocess_function_hombres(ds[\"test\"])\n",
    "    \n",
    "    train_set['labels'] = train_set['input_ids'].detach().clone()\n",
    "    test_set['labels'] = test_set['input_ids'].detach().clone()\n",
    "    \n",
    "    return train_set, test_set"
   ]
  },
  {
   "cell_type": "code",
   "execution_count": 12,
   "metadata": {
    "colab": {
     "base_uri": "https://localhost:8080/"
    },
    "id": "k3FzB7a5o1bx",
    "outputId": "edf4b0f3-885b-4896-edb0-eb75121402b5"
   },
   "outputs": [],
   "source": [
    "trainingSet_mujeres, testSet_mujeres= tokenize_sentences_mujeres(mujeres)"
   ]
  },
  {
   "cell_type": "code",
   "execution_count": 13,
   "metadata": {},
   "outputs": [],
   "source": [
    "trainingSet_hombres, testSet_hombres= tokenize_sentences_hombres(hombres)"
   ]
  },
  {
   "cell_type": "markdown",
   "metadata": {},
   "source": [
    "# Haciendo BETO para mujeres"
   ]
  },
  {
   "cell_type": "code",
   "execution_count": 14,
   "metadata": {},
   "outputs": [],
   "source": [
    "input_ids = trainingSet_mujeres[\"input_ids\"]\n",
    "input_ids[0][7] = tokenizer_m.mask_token_id\n",
    "\n",
    "labels = trainingSet_mujeres[\"input_ids\"].clone()\n",
    "labels[labels!= tokenizer_m.mask_token_id] = -100"
   ]
  },
  {
   "cell_type": "code",
   "execution_count": 15,
   "metadata": {
    "id": "TFiyi5DEo1ZN"
   },
   "outputs": [],
   "source": [
    "class TweetsDataset(torch.utils.data.Dataset):\n",
    "    def __init__(self, encodings):\n",
    "        self.encodings = encodings\n",
    "    \n",
    "    def __len__(self):\n",
    "        return len(self.encodings['input_ids'])\n",
    "\n",
    "    def __getitem__(self, index):\n",
    "        input_ids = self.encodings['input_ids'][index]\n",
    "        labels = self.encodings['labels'][index]\n",
    "        attention_mask = self.encodings['attention_mask'][index]\n",
    "        token_type_ids = self.encodings['token_type_ids'][index]\n",
    "        return {\n",
    "            'input_ids': input_ids,\n",
    "            'labels': labels,\n",
    "            'attention_mask': attention_mask,\n",
    "            'token_type_ids': token_type_ids\n",
    "        }"
   ]
  },
  {
   "cell_type": "code",
   "execution_count": 16,
   "metadata": {
    "id": "Q1ejsPe1o1Wz"
   },
   "outputs": [],
   "source": [
    "dataset_mujeres = TweetsDataset(trainingSet_mujeres)"
   ]
  },
  {
   "cell_type": "code",
   "execution_count": 17,
   "metadata": {},
   "outputs": [],
   "source": [
    "input_ids = testSet_mujeres[\"input_ids\"]\n",
    "input_ids[0][7] = tokenizer_m.mask_token_id\n",
    "\n",
    "labels = testSet_mujeres[\"input_ids\"].clone()\n",
    "labels[labels!= tokenizer_m.mask_token_id] = -100"
   ]
  },
  {
   "cell_type": "code",
   "execution_count": 18,
   "metadata": {},
   "outputs": [],
   "source": [
    "class TweetsDataset2(torch.utils.data.Dataset):\n",
    "    def __init__(self, encodings):\n",
    "        self.encodings = encodings\n",
    "    \n",
    "    def __len__(self):\n",
    "        return len(self.encodings['input_ids'])\n",
    "\n",
    "    def __getitem__(self, index):\n",
    "        input_ids = self.encodings['input_ids'][index]\n",
    "        labels = self.encodings['labels'][index]\n",
    "        attention_mask = self.encodings['attention_mask'][index]\n",
    "        token_type_ids = self.encodings['token_type_ids'][index]\n",
    "        return {\n",
    "            'input_ids': input_ids,\n",
    "            'labels': labels,\n",
    "            'attention_mask': attention_mask,\n",
    "            'token_type_ids': token_type_ids\n",
    "        }"
   ]
  },
  {
   "cell_type": "code",
   "execution_count": 19,
   "metadata": {},
   "outputs": [],
   "source": [
    "test_dataset_mujeres = TweetsDataset2(testSet_mujeres)"
   ]
  },
  {
   "cell_type": "code",
   "execution_count": 20,
   "metadata": {
    "id": "ptAVp6iHo1VE"
   },
   "outputs": [],
   "source": [
    "def get_dataloader(dataset_mujeres):\n",
    "    dataloader = torch.utils.data.DataLoader(\n",
    "      dataset_mujeres,\n",
    "      batch_size=32,\n",
    "      shuffle=True,\n",
    "    num_workers=5\n",
    "    )\n",
    "    return dataloader\n",
    "\n",
    "def get_Testdataloader(test_dataset_mujeres):\n",
    "    dataloader = torch.utils.data.DataLoader(\n",
    "      test_dataset_mujeres,\n",
    "      batch_size=16,\n",
    "      shuffle=True,\n",
    "    num_workers=5\n",
    "    )\n",
    "    return dataloader"
   ]
  },
  {
   "cell_type": "code",
   "execution_count": 21,
   "metadata": {
    "id": "Seh3pDF8o1TA"
   },
   "outputs": [],
   "source": [
    "Data_loader_train_mujeres = get_dataloader(dataset_mujeres)\n",
    "Data_loader_test_mujeres = get_Testdataloader(test_dataset_mujeres)"
   ]
  },
  {
   "cell_type": "code",
   "execution_count": 22,
   "metadata": {
    "colab": {
     "base_uri": "https://localhost:8080/"
    },
    "id": "5eqtH51oo1Qz",
    "outputId": "87afcff4-79d8-492c-f224-7dc6884f1f91"
   },
   "outputs": [
    {
     "data": {
      "text/plain": [
       "device(type='cuda')"
      ]
     },
     "execution_count": 22,
     "metadata": {},
     "output_type": "execute_result"
    }
   ],
   "source": [
    "device = torch.device('cuda') if torch.cuda.is_available() else torch.device('cpu')\n",
    "device"
   ]
  },
  {
   "cell_type": "code",
   "execution_count": 23,
   "metadata": {
    "id": "L2EfwmAso1M5",
    "tags": []
   },
   "outputs": [
    {
     "data": {
      "text/plain": [
       "AlbertForMaskedLM(\n",
       "  (albert): AlbertModel(\n",
       "    (embeddings): AlbertEmbeddings(\n",
       "      (word_embeddings): Embedding(31000, 128, padding_idx=0)\n",
       "      (position_embeddings): Embedding(512, 128)\n",
       "      (token_type_embeddings): Embedding(2, 128)\n",
       "      (LayerNorm): LayerNorm((128,), eps=1e-12, elementwise_affine=True)\n",
       "      (dropout): Dropout(p=0, inplace=False)\n",
       "    )\n",
       "    (encoder): AlbertTransformer(\n",
       "      (embedding_hidden_mapping_in): Linear(in_features=128, out_features=312, bias=True)\n",
       "      (albert_layer_groups): ModuleList(\n",
       "        (0): AlbertLayerGroup(\n",
       "          (albert_layers): ModuleList(\n",
       "            (0): AlbertLayer(\n",
       "              (full_layer_layer_norm): LayerNorm((312,), eps=1e-12, elementwise_affine=True)\n",
       "              (attention): AlbertAttention(\n",
       "                (query): Linear(in_features=312, out_features=312, bias=True)\n",
       "                (key): Linear(in_features=312, out_features=312, bias=True)\n",
       "                (value): Linear(in_features=312, out_features=312, bias=True)\n",
       "                (attention_dropout): Dropout(p=0, inplace=False)\n",
       "                (output_dropout): Dropout(p=0, inplace=False)\n",
       "                (dense): Linear(in_features=312, out_features=312, bias=True)\n",
       "                (LayerNorm): LayerNorm((312,), eps=1e-12, elementwise_affine=True)\n",
       "              )\n",
       "              (ffn): Linear(in_features=312, out_features=1248, bias=True)\n",
       "              (ffn_output): Linear(in_features=1248, out_features=312, bias=True)\n",
       "              (activation): GELUActivation()\n",
       "              (dropout): Dropout(p=0, inplace=False)\n",
       "            )\n",
       "          )\n",
       "        )\n",
       "      )\n",
       "    )\n",
       "  )\n",
       "  (predictions): AlbertMLMHead(\n",
       "    (LayerNorm): LayerNorm((128,), eps=1e-12, elementwise_affine=True)\n",
       "    (dense): Linear(in_features=312, out_features=128, bias=True)\n",
       "    (decoder): Linear(in_features=128, out_features=31000, bias=True)\n",
       "    (activation): GELUActivation()\n",
       "  )\n",
       ")"
      ]
     },
     "execution_count": 23,
     "metadata": {},
     "output_type": "execute_result"
    }
   ],
   "source": [
    "model_m.to(device)"
   ]
  },
  {
   "cell_type": "code",
   "execution_count": 24,
   "metadata": {
    "id": "ctgt79kKvK_l",
    "tags": []
   },
   "outputs": [],
   "source": [
    "from tqdm.auto import tqdm\n",
    "from transformers import AdamW\n",
    "from transformers import DataCollatorForLanguageModeling"
   ]
  },
  {
   "cell_type": "code",
   "execution_count": 25,
   "metadata": {
    "colab": {
     "base_uri": "https://localhost:8080/"
    },
    "id": "_-FTQKPSo1Jx",
    "outputId": "c605079b-01f5-4626-bf9c-5d135d693493"
   },
   "outputs": [],
   "source": [
    "epochs = 3\n",
    "optimizer = torch.optim.AdamW(model_m.parameters(), lr=3e-5)"
   ]
  },
  {
   "cell_type": "code",
   "execution_count": 26,
   "metadata": {
    "colab": {
     "base_uri": "https://localhost:8080/"
    },
    "id": "FPQCv7z10G7a",
    "outputId": "130e4f23-e574-48ca-e0cc-14e2c426b76a"
   },
   "outputs": [
    {
     "data": {
      "text/plain": [
       "0"
      ]
     },
     "execution_count": 26,
     "metadata": {},
     "output_type": "execute_result"
    }
   ],
   "source": [
    "gc.collect()"
   ]
  },
  {
   "cell_type": "code",
   "execution_count": 27,
   "metadata": {
    "id": "3xehjsTU0Lsl"
   },
   "outputs": [],
   "source": [
    "torch.cuda.empty_cache()"
   ]
  },
  {
   "cell_type": "code",
   "execution_count": 28,
   "metadata": {},
   "outputs": [],
   "source": [
    "def compute_metrics(pred):\n",
    "    corr = torch.corrcoef(pred)\n",
    "    return corr.item()"
   ]
  },
  {
   "cell_type": "code",
   "execution_count": 29,
   "metadata": {},
   "outputs": [],
   "source": [
    "def training(Data_loader_train_mujeres):\n",
    "    global losses_list_train\n",
    "    global perplexity_list_train\n",
    "    \n",
    "    losses_list_train = []\n",
    "    perplexity_list_train = []\n",
    "    \n",
    "    model_m.train()\n",
    "    \n",
    "    loop = tqdm(Data_loader_train_mujeres)\n",
    "    for batch in loop:\n",
    "        optimizer.zero_grad()\n",
    "        input_ids = batch['input_ids'].to(device)\n",
    "        labels = batch['labels'].to(device)\n",
    "        attention_mask = batch['attention_mask'].to(device)\n",
    "        token_type_ids = batch[\"token_type_ids\"].to(device)\n",
    "        outputs = model_m(input_ids=input_ids,\n",
    "                        labels=labels,\n",
    "                        attention_mask = attention_mask,\n",
    "                        token_type_ids = token_type_ids)\n",
    "        loss = outputs.loss\n",
    "        x = outputs.logits\n",
    "        loss.backward()\n",
    "        optimizer.step()\n",
    "        \n",
    "        try:\n",
    "            perplexity = torch.exp(loss)\n",
    "        except OverflowError:\n",
    "            perplexity = torch.tensor(float(\"inf\"))\n",
    "        corr = compute_metrics(x.view(-1))\n",
    "\n",
    "        loop.set_description(\"Epoch: {}\".format(epoch))\n",
    "        loop.set_postfix(loss=loss.item(), corr = corr, perplexity=perplexity.item())\n",
    "        \n",
    "        losses_list_train.append(loss.item())\n",
    "        perplexity_list_train.append(perplexity.item())\n",
    "    return outputs\n",
    "\n",
    "def test(Data_loader_test_mujeres):\n",
    "    global losses_list_test\n",
    "    global perplexity_list_test\n",
    "    \n",
    "    losses_list_test = []\n",
    "    perplexity_list_test = []\n",
    "    \n",
    "    model_m.eval()\n",
    "    loop = tqdm(Data_loader_test_mujeres)\n",
    "    \n",
    "    for batch in loop:\n",
    "        optimizer.zero_grad()\n",
    "        input_ids = batch['input_ids'].to(device)\n",
    "        labels = batch['labels'].to(device)\n",
    "        attention_mask = batch['attention_mask'].to(device)\n",
    "        token_type_ids = batch[\"token_type_ids\"].to(device)\n",
    "        outputs = model_m(input_ids=input_ids,\n",
    "                        labels=labels,\n",
    "                        attention_mask = attention_mask,\n",
    "                        token_type_ids = token_type_ids)\n",
    "        loss = outputs.loss\n",
    "        loss.backward()\n",
    "        optimizer.step()\n",
    "        \n",
    "        try:\n",
    "            perplexity = torch.exp(loss)\n",
    "        except OverflowError:\n",
    "            perplexity = torch.tensor(float(\"inf\"))\n",
    "        \n",
    "        x = outputs.logits\n",
    "        corr = compute_metrics(x.view(-1))\n",
    "\n",
    "        loop.set_description(\"Epoch: {}\".format(epoch))\n",
    "        loop.set_postfix(loss=loss.item(), corr=corr, perplexity= perplexity.item())\n",
    "        \n",
    "        losses_list_test.append(loss.item())\n",
    "        perplexity_list_test.append(perplexity.item())\n",
    "    return outputs"
   ]
  },
  {
   "cell_type": "code",
   "execution_count": 30,
   "metadata": {},
   "outputs": [],
   "source": [
    "df_metrics = pd.DataFrame(columns=[\"stage\",\"loss\",\"perplexity\"])"
   ]
  },
  {
   "cell_type": "code",
   "execution_count": 31,
   "metadata": {},
   "outputs": [],
   "source": [
    "dic = {\"stage\":[],\"loss\":[],\"perplexity\":[]}"
   ]
  },
  {
   "cell_type": "code",
   "execution_count": 32,
   "metadata": {
    "tags": []
   },
   "outputs": [
    {
     "name": "stdout",
     "output_type": "stream",
     "text": [
      "Collect gc\n",
      "Empty cache\n",
      "Training BETO\n"
     ]
    },
    {
     "data": {
      "application/vnd.jupyter.widget-view+json": {
       "model_id": "d2af6f28580b4d1cad1e0bbe837dceb6",
       "version_major": 2,
       "version_minor": 0
      },
      "text/plain": [
       "  0%|          | 0/5026 [00:00<?, ?it/s]"
      ]
     },
     "metadata": {},
     "output_type": "display_data"
    },
    {
     "name": "stdout",
     "output_type": "stream",
     "text": [
      "Saving train metrics...\n",
      "Collect gc\n",
      "Empty cache\n",
      "Test phase\n"
     ]
    },
    {
     "data": {
      "application/vnd.jupyter.widget-view+json": {
       "model_id": "9606572273314d24af83a4e91a854ac8",
       "version_major": 2,
       "version_minor": 0
      },
      "text/plain": [
       "  0%|          | 0/2513 [00:00<?, ?it/s]"
      ]
     },
     "metadata": {},
     "output_type": "display_data"
    },
    {
     "name": "stdout",
     "output_type": "stream",
     "text": [
      "Saving test metrics...\n",
      "Collect gc\n",
      "Empty cache\n",
      "Training BETO\n"
     ]
    },
    {
     "data": {
      "application/vnd.jupyter.widget-view+json": {
       "model_id": "2ed62e6051d849e2825bc39e1d567092",
       "version_major": 2,
       "version_minor": 0
      },
      "text/plain": [
       "  0%|          | 0/5026 [00:00<?, ?it/s]"
      ]
     },
     "metadata": {},
     "output_type": "display_data"
    },
    {
     "name": "stdout",
     "output_type": "stream",
     "text": [
      "Saving train metrics...\n",
      "Collect gc\n",
      "Empty cache\n",
      "Test phase\n"
     ]
    },
    {
     "data": {
      "application/vnd.jupyter.widget-view+json": {
       "model_id": "6d41f98a9ebc4581a57604a26eaa3b35",
       "version_major": 2,
       "version_minor": 0
      },
      "text/plain": [
       "  0%|          | 0/2513 [00:00<?, ?it/s]"
      ]
     },
     "metadata": {},
     "output_type": "display_data"
    },
    {
     "name": "stdout",
     "output_type": "stream",
     "text": [
      "Saving test metrics...\n",
      "Collect gc\n",
      "Empty cache\n",
      "Training BETO\n"
     ]
    },
    {
     "data": {
      "application/vnd.jupyter.widget-view+json": {
       "model_id": "a22d68a3cb874800ace2625df8e9a7ad",
       "version_major": 2,
       "version_minor": 0
      },
      "text/plain": [
       "  0%|          | 0/5026 [00:00<?, ?it/s]"
      ]
     },
     "metadata": {},
     "output_type": "display_data"
    },
    {
     "name": "stdout",
     "output_type": "stream",
     "text": [
      "Saving train metrics...\n",
      "Collect gc\n",
      "Empty cache\n",
      "Test phase\n"
     ]
    },
    {
     "data": {
      "application/vnd.jupyter.widget-view+json": {
       "model_id": "b3f158ae141140c0ac2972ea17b5c71a",
       "version_major": 2,
       "version_minor": 0
      },
      "text/plain": [
       "  0%|          | 0/2513 [00:00<?, ?it/s]"
      ]
     },
     "metadata": {},
     "output_type": "display_data"
    },
    {
     "name": "stdout",
     "output_type": "stream",
     "text": [
      "Saving test metrics...\n"
     ]
    }
   ],
   "source": [
    "for epoch in range(epochs):\n",
    "    print(\"Collect gc\")\n",
    "    gc.collect()\n",
    "    print(\"Empty cache\")\n",
    "    torch.cuda.empty_cache()\n",
    "    \n",
    "    print(\"Training alBETO\")\n",
    "    training(Data_loader_train_mujeres)\n",
    "    \n",
    "    print(\"Saving train metrics...\")\n",
    "    \n",
    "    dic[\"stage\"].append([\"training \" +str(epoch)])\n",
    "    dic[\"loss\"].append([losses_list_train])\n",
    "    dic[\"perplexity\"].append([perplexity_list_train])\n",
    "    \n",
    "    \n",
    "    print(\"Collect gc\")\n",
    "    gc.collect()\n",
    "    print(\"Empty cache\")\n",
    "    torch.cuda.empty_cache()\n",
    "    \n",
    "    \n",
    "    print(\"Test phase\")\n",
    "    test(Data_loader_test_mujeres)\n",
    "    \n",
    "    print(\"Saving test metrics...\")\n",
    "    dic[\"stage\"].append([\"testing \" +str(epoch)])\n",
    "    dic[\"loss\"].append([losses_list_test])\n",
    "    dic[\"perplexity\"].append([perplexity_list_test])\n",
    "    "
   ]
  },
  {
   "cell_type": "code",
   "execution_count": 33,
   "metadata": {},
   "outputs": [],
   "source": [
    "model_m.save_pretrained('./my_model_checkpoints_ellas_albeto/')"
   ]
  },
  {
   "cell_type": "code",
   "execution_count": 34,
   "metadata": {
    "tags": []
   },
   "outputs": [
    {
     "data": {
      "text/plain": [
       "('./my_model_checkpoints_ellas_albeto/tokenizer_config.json',\n",
       " './my_model_checkpoints_ellas_albeto/special_tokens_map.json',\n",
       " './my_model_checkpoints_ellas_albeto/spiece.model',\n",
       " './my_model_checkpoints_ellas_albeto/added_tokens.json')"
      ]
     },
     "execution_count": 34,
     "metadata": {},
     "output_type": "execute_result"
    }
   ],
   "source": [
    "tokenizer_m.save_pretrained('./my_model_checkpoints_ellas_albeto/')"
   ]
  },
  {
   "cell_type": "code",
   "execution_count": 35,
   "metadata": {},
   "outputs": [
    {
     "data": {
      "text/plain": [
       "'@adams_zulema Muchas gracias @adams_zulema ❤️ saludos'"
      ]
     },
     "execution_count": 35,
     "metadata": {},
     "output_type": "execute_result"
    }
   ],
   "source": [
    "mujeres.tweet.to_numpy()[0]"
   ]
  },
  {
   "cell_type": "code",
   "execution_count": 36,
   "metadata": {},
   "outputs": [],
   "source": [
    "import numpy as np\n",
    "def encode(df):\n",
    "    data = df.tweet.to_numpy()\n",
    "    print(\"Encoding the corpus. This might take a while\")\n",
    "    embeddings = []\n",
    "    for sentence in data:\n",
    "        corpus_embeddings = tokenizer_m.encode(sentence)\n",
    "        corpus_embeddings = corpus_embeddings / np.linalg.norm(corpus_embeddings,keepdims=True)\n",
    "        embeddings.append(corpus_embeddings)\n",
    "        \n",
    "    return embeddings"
   ]
  },
  {
   "cell_type": "code",
   "execution_count": 37,
   "metadata": {
    "tags": []
   },
   "outputs": [
    {
     "name": "stdout",
     "output_type": "stream",
     "text": [
      "Encoding the corpus. This might take a while\n"
     ]
    }
   ],
   "source": [
    "mujeres_embeddings = encode(mujeres)"
   ]
  },
  {
   "cell_type": "code",
   "execution_count": 38,
   "metadata": {},
   "outputs": [
    {
     "data": {
      "text/html": [
       "<div>\n",
       "<style scoped>\n",
       "    .dataframe tbody tr th:only-of-type {\n",
       "        vertical-align: middle;\n",
       "    }\n",
       "\n",
       "    .dataframe tbody tr th {\n",
       "        vertical-align: top;\n",
       "    }\n",
       "\n",
       "    .dataframe thead th {\n",
       "        text-align: right;\n",
       "    }\n",
       "</style>\n",
       "<table border=\"1\" class=\"dataframe\">\n",
       "  <thead>\n",
       "    <tr style=\"text-align: right;\">\n",
       "      <th></th>\n",
       "      <th>0</th>\n",
       "    </tr>\n",
       "  </thead>\n",
       "  <tbody>\n",
       "    <tr>\n",
       "      <th>0</th>\n",
       "      <td>[2.1279776843082054e-05, 0.3290279095477347, 1...</td>\n",
       "    </tr>\n",
       "    <tr>\n",
       "      <th>1</th>\n",
       "      <td>[2.7469421058294175e-05, 0.42473218840334453, ...</td>\n",
       "    </tr>\n",
       "    <tr>\n",
       "      <th>2</th>\n",
       "      <td>[2.800252040332407e-05, 0.43297497047619676, 1...</td>\n",
       "    </tr>\n",
       "    <tr>\n",
       "      <th>3</th>\n",
       "      <td>[2.0192240340570886e-05, 0.31221242014590705, ...</td>\n",
       "    </tr>\n",
       "    <tr>\n",
       "      <th>4</th>\n",
       "      <td>[2.1764793073813686e-05, 0.3365272305073072, 1...</td>\n",
       "    </tr>\n",
       "    <tr>\n",
       "      <th>...</th>\n",
       "      <td>...</td>\n",
       "    </tr>\n",
       "    <tr>\n",
       "      <th>201033</th>\n",
       "      <td>[2.777929830192188e-05, 0.42952351034431613, 1...</td>\n",
       "    </tr>\n",
       "    <tr>\n",
       "      <th>201034</th>\n",
       "      <td>[1.910993855813517e-05, 0.29547786998588604, 9...</td>\n",
       "    </tr>\n",
       "    <tr>\n",
       "      <th>201035</th>\n",
       "      <td>[2.6823751208130837e-05, 0.414748841180119, 1....</td>\n",
       "    </tr>\n",
       "    <tr>\n",
       "      <th>201036</th>\n",
       "      <td>[1.8651467192103727e-05, 0.2883889857243078, 9...</td>\n",
       "    </tr>\n",
       "    <tr>\n",
       "      <th>201037</th>\n",
       "      <td>[1.767082254615648e-05, 0.27322625820867147, 8...</td>\n",
       "    </tr>\n",
       "  </tbody>\n",
       "</table>\n",
       "<p>201038 rows × 1 columns</p>\n",
       "</div>"
      ],
      "text/plain": [
       "                                                        0\n",
       "0       [2.1279776843082054e-05, 0.3290279095477347, 1...\n",
       "1       [2.7469421058294175e-05, 0.42473218840334453, ...\n",
       "2       [2.800252040332407e-05, 0.43297497047619676, 1...\n",
       "3       [2.0192240340570886e-05, 0.31221242014590705, ...\n",
       "4       [2.1764793073813686e-05, 0.3365272305073072, 1...\n",
       "...                                                   ...\n",
       "201033  [2.777929830192188e-05, 0.42952351034431613, 1...\n",
       "201034  [1.910993855813517e-05, 0.29547786998588604, 9...\n",
       "201035  [2.6823751208130837e-05, 0.414748841180119, 1....\n",
       "201036  [1.8651467192103727e-05, 0.2883889857243078, 9...\n",
       "201037  [1.767082254615648e-05, 0.27322625820867147, 8...\n",
       "\n",
       "[201038 rows x 1 columns]"
      ]
     },
     "execution_count": 38,
     "metadata": {},
     "output_type": "execute_result"
    }
   ],
   "source": [
    "datos_encoded = pd.DataFrame([mujeres_embeddings]).T\n",
    "datos_encoded"
   ]
  },
  {
   "cell_type": "code",
   "execution_count": 40,
   "metadata": {},
   "outputs": [],
   "source": [
    "#datos_encoded.columns = [\"Mujeres\"]"
   ]
  },
  {
   "cell_type": "code",
   "execution_count": 40,
   "metadata": {},
   "outputs": [],
   "source": [
    "model_m = AlbertForMaskedLM.from_pretrained('./my_model_checkpoints_ellas_albeto/', return_dict=True)\n",
    "\n",
    "tokenizer_m = AlbertTokenizer.from_pretrained('./my_model_checkpoints_ellas_albeto/', \n",
    "                        return_offset_mapping=True)"
   ]
  },
  {
   "cell_type": "code",
   "execution_count": null,
   "metadata": {
    "tags": []
   },
   "outputs": [],
   "source": [
    "model_m.to(device)"
   ]
  },
  {
   "cell_type": "code",
   "execution_count": 41,
   "metadata": {},
   "outputs": [],
   "source": [
    "datos_encoded.to_csv(\"./my_model_checkpoints_ellas/embeddings_albeto.csv\")"
   ]
  },
  {
   "cell_type": "code",
   "execution_count": null,
   "metadata": {},
   "outputs": [],
   "source": [
    "import matplotlib.pyplot as plt\n",
    "plt.plot(b)"
   ]
  },
  {
   "cell_type": "markdown",
   "metadata": {},
   "source": [
    "# Haciendo BETO para hombres"
   ]
  },
  {
   "cell_type": "code",
   "execution_count": 42,
   "metadata": {},
   "outputs": [],
   "source": [
    "input_ids = trainingSet_hombres[\"input_ids\"]\n",
    "input_ids[0][7] = tokenizer_h.mask_token_id\n",
    "\n",
    "labels = trainingSet_hombres[\"input_ids\"].clone()\n",
    "labels[labels!= tokenizer_h.mask_token_id] = -100"
   ]
  },
  {
   "cell_type": "code",
   "execution_count": 43,
   "metadata": {},
   "outputs": [],
   "source": [
    "dataset_hombres = TweetsDataset(trainingSet_hombres)"
   ]
  },
  {
   "cell_type": "code",
   "execution_count": 44,
   "metadata": {},
   "outputs": [],
   "source": [
    "input_ids = testSet_hombres[\"input_ids\"]\n",
    "input_ids[0][7] = tokenizer_h.mask_token_id\n",
    "\n",
    "labels = testSet_hombres[\"input_ids\"].clone()\n",
    "labels[labels!= tokenizer_h.mask_token_id] = -100"
   ]
  },
  {
   "cell_type": "code",
   "execution_count": 45,
   "metadata": {},
   "outputs": [],
   "source": [
    "test_dataset_hombres = TweetsDataset2(testSet_hombres)"
   ]
  },
  {
   "cell_type": "code",
   "execution_count": 46,
   "metadata": {},
   "outputs": [],
   "source": [
    "def get_dataloader(dataset_hombres):\n",
    "    dataloader = torch.utils.data.DataLoader(\n",
    "      dataset_hombres,\n",
    "      batch_size=32,\n",
    "      shuffle=True,\n",
    "    num_workers=5\n",
    "    )\n",
    "    return dataloader\n",
    "\n",
    "def get_Testdataloader(test_dataset_hombres):\n",
    "    dataloader = torch.utils.data.DataLoader(\n",
    "      test_dataset_hombres,\n",
    "      batch_size=16,\n",
    "      shuffle=True,\n",
    "    num_workers=5\n",
    "    )\n",
    "    return dataloader"
   ]
  },
  {
   "cell_type": "code",
   "execution_count": 47,
   "metadata": {},
   "outputs": [],
   "source": [
    "Data_loader_train_hombres = get_dataloader(dataset_hombres)\n",
    "Data_loader_test_hombres = get_Testdataloader(test_dataset_hombres)"
   ]
  },
  {
   "cell_type": "code",
   "execution_count": 48,
   "metadata": {},
   "outputs": [],
   "source": [
    "gc.collect()\n",
    "torch.cuda.empty_cache()"
   ]
  },
  {
   "cell_type": "code",
   "execution_count": 49,
   "metadata": {
    "tags": []
   },
   "outputs": [
    {
     "data": {
      "text/plain": [
       "AlbertForMaskedLM(\n",
       "  (albert): AlbertModel(\n",
       "    (embeddings): AlbertEmbeddings(\n",
       "      (word_embeddings): Embedding(31000, 128, padding_idx=0)\n",
       "      (position_embeddings): Embedding(512, 128)\n",
       "      (token_type_embeddings): Embedding(2, 128)\n",
       "      (LayerNorm): LayerNorm((128,), eps=1e-12, elementwise_affine=True)\n",
       "      (dropout): Dropout(p=0, inplace=False)\n",
       "    )\n",
       "    (encoder): AlbertTransformer(\n",
       "      (embedding_hidden_mapping_in): Linear(in_features=128, out_features=312, bias=True)\n",
       "      (albert_layer_groups): ModuleList(\n",
       "        (0): AlbertLayerGroup(\n",
       "          (albert_layers): ModuleList(\n",
       "            (0): AlbertLayer(\n",
       "              (full_layer_layer_norm): LayerNorm((312,), eps=1e-12, elementwise_affine=True)\n",
       "              (attention): AlbertAttention(\n",
       "                (query): Linear(in_features=312, out_features=312, bias=True)\n",
       "                (key): Linear(in_features=312, out_features=312, bias=True)\n",
       "                (value): Linear(in_features=312, out_features=312, bias=True)\n",
       "                (attention_dropout): Dropout(p=0, inplace=False)\n",
       "                (output_dropout): Dropout(p=0, inplace=False)\n",
       "                (dense): Linear(in_features=312, out_features=312, bias=True)\n",
       "                (LayerNorm): LayerNorm((312,), eps=1e-12, elementwise_affine=True)\n",
       "              )\n",
       "              (ffn): Linear(in_features=312, out_features=1248, bias=True)\n",
       "              (ffn_output): Linear(in_features=1248, out_features=312, bias=True)\n",
       "              (activation): GELUActivation()\n",
       "              (dropout): Dropout(p=0, inplace=False)\n",
       "            )\n",
       "          )\n",
       "        )\n",
       "      )\n",
       "    )\n",
       "  )\n",
       "  (predictions): AlbertMLMHead(\n",
       "    (LayerNorm): LayerNorm((128,), eps=1e-12, elementwise_affine=True)\n",
       "    (dense): Linear(in_features=312, out_features=128, bias=True)\n",
       "    (decoder): Linear(in_features=128, out_features=31000, bias=True)\n",
       "    (activation): GELUActivation()\n",
       "  )\n",
       ")"
      ]
     },
     "execution_count": 49,
     "metadata": {},
     "output_type": "execute_result"
    }
   ],
   "source": [
    "model_h.to(device)"
   ]
  },
  {
   "cell_type": "code",
   "execution_count": 50,
   "metadata": {},
   "outputs": [],
   "source": [
    "epochs = 3\n",
    "optimizer = torch.optim.AdamW(model_h.parameters(), lr=3e-5)"
   ]
  },
  {
   "cell_type": "code",
   "execution_count": 51,
   "metadata": {},
   "outputs": [],
   "source": [
    "gc.collect()\n",
    "torch.cuda.empty_cache()"
   ]
  },
  {
   "cell_type": "code",
   "execution_count": 52,
   "metadata": {},
   "outputs": [],
   "source": [
    "def compute_metrics(pred):\n",
    "    corr = torch.corrcoef(pred)\n",
    "    return corr.item()"
   ]
  },
  {
   "cell_type": "code",
   "execution_count": 53,
   "metadata": {},
   "outputs": [],
   "source": [
    "def training(Data_loader_train_hombres):\n",
    "    global losses_list_train\n",
    "    global perplexity_list_train\n",
    "    \n",
    "    losses_list_train = []\n",
    "    perplexity_list_train = []\n",
    "    \n",
    "    model_h.train()\n",
    "    \n",
    "    loop = tqdm(Data_loader_train_hombres)\n",
    "    for batch in loop:\n",
    "        optimizer.zero_grad()\n",
    "        input_ids = batch['input_ids'].to(device)\n",
    "        labels = batch['labels'].to(device)\n",
    "        attention_mask = batch['attention_mask'].to(device)\n",
    "        token_type_ids = batch[\"token_type_ids\"].to(device)\n",
    "        outputs = model_h(input_ids=input_ids,\n",
    "                        labels=labels,\n",
    "                        attention_mask = attention_mask,\n",
    "                        token_type_ids = token_type_ids)\n",
    "        loss = outputs.loss\n",
    "        x = outputs.logits\n",
    "        loss.backward()\n",
    "        optimizer.step()\n",
    "        \n",
    "        try:\n",
    "            perplexity = torch.exp(loss)\n",
    "        except OverflowError:\n",
    "            perplexity = torch.tensor(float(\"inf\"))\n",
    "        corr = compute_metrics(x.view(-1))\n",
    "\n",
    "        loop.set_description(\"Epoch: {}\".format(epoch))\n",
    "        loop.set_postfix(loss=loss.item(), corr = corr, perplexity=perplexity.item())\n",
    "        \n",
    "        losses_list_train.append(loss.item())\n",
    "        perplexity_list_train.append(perplexity.item())\n",
    "    return outputs"
   ]
  },
  {
   "cell_type": "code",
   "execution_count": 54,
   "metadata": {},
   "outputs": [],
   "source": [
    "def test(Data_loader_test_hombres):\n",
    "    global losses_list_test\n",
    "    global perplexity_list_test\n",
    "    \n",
    "    losses_list_test = []\n",
    "    perplexity_list_test = []\n",
    "    \n",
    "    model_h.eval()\n",
    "    loop = tqdm(Data_loader_test_hombres)\n",
    "    \n",
    "    for batch in loop:\n",
    "        optimizer.zero_grad()\n",
    "        input_ids = batch['input_ids'].to(device)\n",
    "        labels = batch['labels'].to(device)\n",
    "        attention_mask = batch['attention_mask'].to(device)\n",
    "        token_type_ids = batch[\"token_type_ids\"].to(device)\n",
    "        outputs = model_h(input_ids=input_ids,\n",
    "                        labels=labels,\n",
    "                        attention_mask = attention_mask,\n",
    "                        token_type_ids = token_type_ids)\n",
    "        loss = outputs.loss\n",
    "        loss.backward()\n",
    "        optimizer.step()\n",
    "        \n",
    "        try:\n",
    "            perplexity = torch.exp(loss)\n",
    "        except OverflowError:\n",
    "            perplexity = torch.tensor(float(\"inf\"))\n",
    "        \n",
    "        x = outputs.logits\n",
    "        corr = compute_metrics(x.view(-1))\n",
    "\n",
    "        loop.set_description(\"Epoch: {}\".format(epoch))\n",
    "        loop.set_postfix(loss=loss.item(), corr=corr, perplexity= perplexity.item())\n",
    "        \n",
    "        losses_list_test.append(loss.item())\n",
    "        perplexity_list_test.append(perplexity.item())\n",
    "    return outputs"
   ]
  },
  {
   "cell_type": "code",
   "execution_count": 55,
   "metadata": {},
   "outputs": [],
   "source": [
    "dic2 = {\"stage\":[],\"loss\":[],\"perplexity\":[]}"
   ]
  },
  {
   "cell_type": "code",
   "execution_count": 56,
   "metadata": {},
   "outputs": [
    {
     "name": "stdout",
     "output_type": "stream",
     "text": [
      "Collect gc\n",
      "Empty cache\n",
      "Training alBETO\n"
     ]
    },
    {
     "data": {
      "application/vnd.jupyter.widget-view+json": {
       "model_id": "6ca17081219649128ec45a503fc069b8",
       "version_major": 2,
       "version_minor": 0
      },
      "text/plain": [
       "  0%|          | 0/5026 [00:00<?, ?it/s]"
      ]
     },
     "metadata": {},
     "output_type": "display_data"
    },
    {
     "name": "stdout",
     "output_type": "stream",
     "text": [
      "Saving train metrics...\n",
      "Collect gc\n",
      "Empty cache\n",
      "Test phase\n"
     ]
    },
    {
     "data": {
      "application/vnd.jupyter.widget-view+json": {
       "model_id": "047071098feb40698e28c61fa3453ad5",
       "version_major": 2,
       "version_minor": 0
      },
      "text/plain": [
       "  0%|          | 0/2513 [00:00<?, ?it/s]"
      ]
     },
     "metadata": {},
     "output_type": "display_data"
    },
    {
     "name": "stdout",
     "output_type": "stream",
     "text": [
      "Saving test metrics...\n",
      "Collect gc\n",
      "Empty cache\n",
      "Training alBETO\n"
     ]
    },
    {
     "data": {
      "application/vnd.jupyter.widget-view+json": {
       "model_id": "07c8f6bb923742868d4aadeb76139075",
       "version_major": 2,
       "version_minor": 0
      },
      "text/plain": [
       "  0%|          | 0/5026 [00:00<?, ?it/s]"
      ]
     },
     "metadata": {},
     "output_type": "display_data"
    },
    {
     "name": "stdout",
     "output_type": "stream",
     "text": [
      "Saving train metrics...\n",
      "Collect gc\n",
      "Empty cache\n",
      "Test phase\n"
     ]
    },
    {
     "data": {
      "application/vnd.jupyter.widget-view+json": {
       "model_id": "332d8fe23756474b86bf5a82db24c7ba",
       "version_major": 2,
       "version_minor": 0
      },
      "text/plain": [
       "  0%|          | 0/2513 [00:00<?, ?it/s]"
      ]
     },
     "metadata": {},
     "output_type": "display_data"
    },
    {
     "name": "stdout",
     "output_type": "stream",
     "text": [
      "Empty cache\n",
      "Training alBETO\n"
     ]
    },
    {
     "data": {
      "application/vnd.jupyter.widget-view+json": {
       "model_id": "05b3a4122fbf4d69b18b4a5c9cd02e20",
       "version_major": 2,
       "version_minor": 0
      },
      "text/plain": [
       "  0%|          | 0/5026 [00:00<?, ?it/s]"
      ]
     },
     "metadata": {},
     "output_type": "display_data"
    },
    {
     "name": "stdout",
     "output_type": "stream",
     "text": [
      "Saving train metrics...\n",
      "Collect gc\n",
      "Empty cache\n",
      "Test phase\n"
     ]
    },
    {
     "data": {
      "application/vnd.jupyter.widget-view+json": {
       "model_id": "e24f38e39e0044bb8e82d5694e48aedf",
       "version_major": 2,
       "version_minor": 0
      },
      "text/plain": [
       "  0%|          | 0/2513 [00:00<?, ?it/s]"
      ]
     },
     "metadata": {},
     "output_type": "display_data"
    },
    {
     "name": "stdout",
     "output_type": "stream",
     "text": [
      "Saving test metrics...\n"
     ]
    }
   ],
   "source": [
    "for epoch in range(epochs):\n",
    "    print(\"Collect gc\")\n",
    "    gc.collect()\n",
    "    print(\"Empty cache\")\n",
    "    torch.cuda.empty_cache()\n",
    "    \n",
    "    print(\"Training alBETO\")\n",
    "    training(Data_loader_train_hombres)\n",
    "    \n",
    "    print(\"Saving train metrics...\")\n",
    "    \n",
    "    dic2[\"stage\"].append([\"training \" +str(epoch)])\n",
    "    dic2[\"loss\"].append([losses_list_train])\n",
    "    dic2[\"perplexity\"].append([perplexity_list_train])\n",
    "    \n",
    "    \n",
    "    print(\"Collect gc\")\n",
    "    gc.collect()\n",
    "    print(\"Empty cache\")\n",
    "    torch.cuda.empty_cache()\n",
    "    \n",
    "    \n",
    "    print(\"Test phase\")\n",
    "    test(Data_loader_test_hombres)\n",
    "    \n",
    "    print(\"Saving test metrics...\")\n",
    "    dic2[\"stage\"].append([\"testing \" +str(epoch)])\n",
    "    dic2[\"loss\"].append([losses_list_test])\n",
    "    dic2[\"perplexity\"].append([perplexity_list_test])"
   ]
  },
  {
   "cell_type": "code",
   "execution_count": 57,
   "metadata": {},
   "outputs": [
    {
     "data": {
      "text/plain": [
       "('./my_model_checkpoints_ellos_albeto/tokenizer_config.json',\n",
       " './my_model_checkpoints_ellos_albeto/special_tokens_map.json',\n",
       " './my_model_checkpoints_ellos_albeto/spiece.model',\n",
       " './my_model_checkpoints_ellos_albeto/added_tokens.json')"
      ]
     },
     "execution_count": 57,
     "metadata": {},
     "output_type": "execute_result"
    }
   ],
   "source": [
    "model_h.save_pretrained('./my_model_checkpoints_ellos_albeto/')\n",
    "tokenizer_h.save_pretrained('./my_model_checkpoints_ellos_albeto/')"
   ]
  },
  {
   "cell_type": "code",
   "execution_count": 58,
   "metadata": {},
   "outputs": [],
   "source": [
    "def encode_h(df):\n",
    "    data = df.tweet.to_numpy()\n",
    "    print(\"Encoding the corpus. This might take a while\")\n",
    "    embeddings = []\n",
    "    for sentence in data:\n",
    "        corpus_embeddings = tokenizer_h.encode(sentence)\n",
    "        corpus_embeddings = corpus_embeddings / np.linalg.norm(corpus_embeddings,keepdims=True)\n",
    "        embeddings.append(corpus_embeddings)\n",
    "        \n",
    "    return embeddings"
   ]
  },
  {
   "cell_type": "code",
   "execution_count": 60,
   "metadata": {},
   "outputs": [
    {
     "name": "stdout",
     "output_type": "stream",
     "text": [
      "Encoding the corpus. This might take a while\n"
     ]
    },
    {
     "data": {
      "text/html": [
       "<div>\n",
       "<style scoped>\n",
       "    .dataframe tbody tr th:only-of-type {\n",
       "        vertical-align: middle;\n",
       "    }\n",
       "\n",
       "    .dataframe tbody tr th {\n",
       "        vertical-align: top;\n",
       "    }\n",
       "\n",
       "    .dataframe thead th {\n",
       "        text-align: right;\n",
       "    }\n",
       "</style>\n",
       "<table border=\"1\" class=\"dataframe\">\n",
       "  <thead>\n",
       "    <tr style=\"text-align: right;\">\n",
       "      <th></th>\n",
       "      <th>0</th>\n",
       "    </tr>\n",
       "  </thead>\n",
       "  <tbody>\n",
       "    <tr>\n",
       "      <th>0</th>\n",
       "      <td>[3.0434495543502212e-05, 0.47057817009363123, ...</td>\n",
       "    </tr>\n",
       "    <tr>\n",
       "      <th>1</th>\n",
       "      <td>[2.816794504997644e-05, 0.4355327663627357, 1....</td>\n",
       "    </tr>\n",
       "    <tr>\n",
       "      <th>2</th>\n",
       "      <td>[2.4246700123574846e-05, 0.00865607194411622, ...</td>\n",
       "    </tr>\n",
       "    <tr>\n",
       "      <th>3</th>\n",
       "      <td>[1.9428490717358174e-05, 0.3004033234717921, 9...</td>\n",
       "    </tr>\n",
       "    <tr>\n",
       "      <th>4</th>\n",
       "      <td>[3.210033407211136e-05, 0.4963353654229858, 1....</td>\n",
       "    </tr>\n",
       "    <tr>\n",
       "      <th>...</th>\n",
       "      <td>...</td>\n",
       "    </tr>\n",
       "    <tr>\n",
       "      <th>201033</th>\n",
       "      <td>[4.567250645488207e-05, 0.7061882948053867, 2....</td>\n",
       "    </tr>\n",
       "    <tr>\n",
       "      <th>201034</th>\n",
       "      <td>[2.82594103384097e-05, 0.4369470026524908, 1.4...</td>\n",
       "    </tr>\n",
       "    <tr>\n",
       "      <th>201035</th>\n",
       "      <td>[1.197675117408217e-05, 0.18518452665365853, 5...</td>\n",
       "    </tr>\n",
       "    <tr>\n",
       "      <th>201036</th>\n",
       "      <td>[2.147609474603551e-05, 0.33206337696320104, 1...</td>\n",
       "    </tr>\n",
       "    <tr>\n",
       "      <th>201037</th>\n",
       "      <td>[4.567250645488207e-05, 0.7061882948053867, 2....</td>\n",
       "    </tr>\n",
       "  </tbody>\n",
       "</table>\n",
       "<p>201038 rows × 1 columns</p>\n",
       "</div>"
      ],
      "text/plain": [
       "                                                        0\n",
       "0       [3.0434495543502212e-05, 0.47057817009363123, ...\n",
       "1       [2.816794504997644e-05, 0.4355327663627357, 1....\n",
       "2       [2.4246700123574846e-05, 0.00865607194411622, ...\n",
       "3       [1.9428490717358174e-05, 0.3004033234717921, 9...\n",
       "4       [3.210033407211136e-05, 0.4963353654229858, 1....\n",
       "...                                                   ...\n",
       "201033  [4.567250645488207e-05, 0.7061882948053867, 2....\n",
       "201034  [2.82594103384097e-05, 0.4369470026524908, 1.4...\n",
       "201035  [1.197675117408217e-05, 0.18518452665365853, 5...\n",
       "201036  [2.147609474603551e-05, 0.33206337696320104, 1...\n",
       "201037  [4.567250645488207e-05, 0.7061882948053867, 2....\n",
       "\n",
       "[201038 rows x 1 columns]"
      ]
     },
     "execution_count": 60,
     "metadata": {},
     "output_type": "execute_result"
    }
   ],
   "source": [
    "hombres_embeddings = encode_h(hombres)\n",
    "datos_encoded_h = pd.DataFrame([hombres_embeddings]).T\n",
    "datos_encoded_h"
   ]
  },
  {
   "cell_type": "code",
   "execution_count": 61,
   "metadata": {},
   "outputs": [],
   "source": [
    "datos_encoded_h.to_csv(\"./my_model_checkpoints_ellos_albeto/embeddings_albeto.csv\")"
   ]
  },
  {
   "cell_type": "code",
   "execution_count": 62,
   "metadata": {},
   "outputs": [],
   "source": [
    "df_metrics = pd.DataFrame(dic2)"
   ]
  },
  {
   "cell_type": "code",
   "execution_count": 63,
   "metadata": {},
   "outputs": [],
   "source": [
    "import matplotlib.pyplot as plt"
   ]
  },
  {
   "cell_type": "code",
   "execution_count": 64,
   "metadata": {},
   "outputs": [],
   "source": [
    "seq = list(df_metrics.loss)"
   ]
  },
  {
   "cell_type": "code",
   "execution_count": 65,
   "metadata": {},
   "outputs": [],
   "source": [
    "a = []\n",
    "for i in seq[0]:\n",
    "    a.append(i)"
   ]
  },
  {
   "cell_type": "code",
   "execution_count": 66,
   "metadata": {},
   "outputs": [],
   "source": [
    "b = []\n",
    "for i in a[0]:\n",
    "    b.append(i)"
   ]
  },
  {
   "cell_type": "code",
   "execution_count": 67,
   "metadata": {},
   "outputs": [
    {
     "data": {
      "text/plain": [
       "5026"
      ]
     },
     "execution_count": 67,
     "metadata": {},
     "output_type": "execute_result"
    }
   ],
   "source": [
    "len(b)"
   ]
  },
  {
   "cell_type": "code",
   "execution_count": 68,
   "metadata": {},
   "outputs": [
    {
     "data": {
      "text/plain": [
       "[<matplotlib.lines.Line2D at 0x7f9bf90377c0>]"
      ]
     },
     "execution_count": 68,
     "metadata": {},
     "output_type": "execute_result"
    },
    {
     "data": {
      "image/png": "[encoded data removed]",
      "text/plain": [
       "<Figure size 432x288 with 1 Axes>"
      ]
     },
     "metadata": {
      "needs_background": "light"
     },
     "output_type": "display_data"
    }
   ],
   "source": [
    "plt.plot(b)"
   ]
  },
  {
   "cell_type": "code",
   "execution_count": null,
   "metadata": {},
   "outputs": [],
   "source": []
  }
 ],
 "metadata": {
  "accelerator": "GPU",
  "colab": {
   "machine_shape": "hm",
   "provenance": []
  },
  "gpuClass": "standard",
  "kernelspec": {
   "display_name": "Python 3 (ipykernel)",
   "language": "python",
   "name": "python3"
  },
  "language_info": {
   "codemirror_mode": {
    "name": "ipython",
    "version": 3
   },
   "file_extension": ".py",
   "mimetype": "text/x-python",
   "name": "python",
   "nbconvert_exporter": "python",
   "pygments_lexer": "ipython3",
   "version": "3.9.13"
  },
  "widgets": {
   "application/vnd.jupyter.widget-state+json": {
    "0047140779854909b0ab62eb0451cd5f": {
     "model_module": "@jupyter-widgets/controls",
     "model_module_version": "1.5.0",
     "model_name": "FloatProgressModel",
     "state": {
      "_dom_classes": [],
      "_model_module": "@jupyter-widgets/controls",
      "_model_module_version": "1.5.0",
      "_model_name": "FloatProgressModel",
      "_view_count": null,
      "_view_module": "@jupyter-widgets/controls",
      "_view_module_version": "1.5.0",
      "_view_name": "ProgressView",
      "bar_style": "danger",
      "description": "",
      "description_tooltip": null,
      "layout": "IPY_MODEL_a7f25d4da0db48b7a1b233daadaf2951",
      "max": 10052,
      "min": 0,
      "orientation": "horizontal",
      "style": "IPY_MODEL_cc50281d7cff4e52947394e5b12611b0",
      "value": 0
     }
    },
    "1c6abc4da70147ddb9877e52dfeea14d": {
     "model_module": "@jupyter-widgets/controls",
     "model_module_version": "1.5.0",
     "model_name": "HTMLModel",
     "state": {
      "_dom_classes": [],
      "_model_module": "@jupyter-widgets/controls",
      "_model_module_version": "1.5.0",
      "_model_name": "HTMLModel",
      "_view_count": null,
      "_view_module": "@jupyter-widgets/controls",
      "_view_module_version": "1.5.0",
      "_view_name": "HTMLView",
      "description": "",
      "description_tooltip": null,
      "layout": "IPY_MODEL_b6d2d87b1038443fafff1bd69c138507",
      "placeholder": "​",
      "style": "IPY_MODEL_634ac1ee58484a539a79dee3f7af5e47",
      "value": "  0%"
     }
    },
    "36def7c352d8400cace4fb67dc06dccd": {
     "model_module": "@jupyter-widgets/base",
     "model_module_version": "1.2.0",
     "model_name": "LayoutModel",
     "state": {
      "_model_module": "@jupyter-widgets/base",
      "_model_module_version": "1.2.0",
      "_model_name": "LayoutModel",
      "_view_count": null,
      "_view_module": "@jupyter-widgets/base",
      "_view_module_version": "1.2.0",
      "_view_name": "LayoutView",
      "align_content": null,
      "align_items": null,
      "align_self": null,
      "border": null,
      "bottom": null,
      "display": null,
      "flex": null,
      "flex_flow": null,
      "grid_area": null,
      "grid_auto_columns": null,
      "grid_auto_flow": null,
      "grid_auto_rows": null,
      "grid_column": null,
      "grid_gap": null,
      "grid_row": null,
      "grid_template_areas": null,
      "grid_template_columns": null,
      "grid_template_rows": null,
      "height": null,
      "justify_content": null,
      "justify_items": null,
      "left": null,
      "margin": null,
      "max_height": null,
      "max_width": null,
      "min_height": null,
      "min_width": null,
      "object_fit": null,
      "object_position": null,
      "order": null,
      "overflow": null,
      "overflow_x": null,
      "overflow_y": null,
      "padding": null,
      "right": null,
      "top": null,
      "visibility": null,
      "width": null
     }
    },
    "4290d0f0f4b34f16a05d888941f4619c": {
     "model_module": "@jupyter-widgets/controls",
     "model_module_version": "1.5.0",
     "model_name": "DescriptionStyleModel",
     "state": {
      "_model_module": "@jupyter-widgets/controls",
      "_model_module_version": "1.5.0",
      "_model_name": "DescriptionStyleModel",
      "_view_count": null,
      "_view_module": "@jupyter-widgets/base",
      "_view_module_version": "1.2.0",
      "_view_name": "StyleView",
      "description_width": ""
     }
    },
    "634ac1ee58484a539a79dee3f7af5e47": {
     "model_module": "@jupyter-widgets/controls",
     "model_module_version": "1.5.0",
     "model_name": "DescriptionStyleModel",
     "state": {
      "_model_module": "@jupyter-widgets/controls",
      "_model_module_version": "1.5.0",
      "_model_name": "DescriptionStyleModel",
      "_view_count": null,
      "_view_module": "@jupyter-widgets/base",
      "_view_module_version": "1.2.0",
      "_view_name": "StyleView",
      "description_width": ""
     }
    },
    "8f5c50d072db4cf4a83cd9e29868e8d4": {
     "model_module": "@jupyter-widgets/controls",
     "model_module_version": "1.5.0",
     "model_name": "HBoxModel",
     "state": {
      "_dom_classes": [],
      "_model_module": "@jupyter-widgets/controls",
      "_model_module_version": "1.5.0",
      "_model_name": "HBoxModel",
      "_view_count": null,
      "_view_module": "@jupyter-widgets/controls",
      "_view_module_version": "1.5.0",
      "_view_name": "HBoxView",
      "box_style": "",
      "children": [
       "IPY_MODEL_1c6abc4da70147ddb9877e52dfeea14d",
       "IPY_MODEL_0047140779854909b0ab62eb0451cd5f",
       "IPY_MODEL_cd4a015ff8b04c8e8d267bdfbbe3864c"
      ],
      "layout": "IPY_MODEL_36def7c352d8400cace4fb67dc06dccd"
     }
    },
    "9027d121739e46108aa64acaa807c0ba": {
     "model_module": "@jupyter-widgets/base",
     "model_module_version": "1.2.0",
     "model_name": "LayoutModel",
     "state": {
      "_model_module": "@jupyter-widgets/base",
      "_model_module_version": "1.2.0",
      "_model_name": "LayoutModel",
      "_view_count": null,
      "_view_module": "@jupyter-widgets/base",
      "_view_module_version": "1.2.0",
      "_view_name": "LayoutView",
      "align_content": null,
      "align_items": null,
      "align_self": null,
      "border": null,
      "bottom": null,
      "display": null,
      "flex": null,
      "flex_flow": null,
      "grid_area": null,
      "grid_auto_columns": null,
      "grid_auto_flow": null,
      "grid_auto_rows": null,
      "grid_column": null,
      "grid_gap": null,
      "grid_row": null,
      "grid_template_areas": null,
      "grid_template_columns": null,
      "grid_template_rows": null,
      "height": null,
      "justify_content": null,
      "justify_items": null,
      "left": null,
      "margin": null,
      "max_height": null,
      "max_width": null,
      "min_height": null,
      "min_width": null,
      "object_fit": null,
      "object_position": null,
      "order": null,
      "overflow": null,
      "overflow_x": null,
      "overflow_y": null,
      "padding": null,
      "right": null,
      "top": null,
      "visibility": null,
      "width": null
     }
    },
    "a7f25d4da0db48b7a1b233daadaf2951": {
     "model_module": "@jupyter-widgets/base",
     "model_module_version": "1.2.0",
     "model_name": "LayoutModel",
     "state": {
      "_model_module": "@jupyter-widgets/base",
      "_model_module_version": "1.2.0",
      "_model_name": "LayoutModel",
      "_view_count": null,
      "_view_module": "@jupyter-widgets/base",
      "_view_module_version": "1.2.0",
      "_view_name": "LayoutView",
      "align_content": null,
      "align_items": null,
      "align_self": null,
      "border": null,
      "bottom": null,
      "display": null,
      "flex": null,
      "flex_flow": null,
      "grid_area": null,
      "grid_auto_columns": null,
      "grid_auto_flow": null,
      "grid_auto_rows": null,
      "grid_column": null,
      "grid_gap": null,
      "grid_row": null,
      "grid_template_areas": null,
      "grid_template_columns": null,
      "grid_template_rows": null,
      "height": null,
      "justify_content": null,
      "justify_items": null,
      "left": null,
      "margin": null,
      "max_height": null,
      "max_width": null,
      "min_height": null,
      "min_width": null,
      "object_fit": null,
      "object_position": null,
      "order": null,
      "overflow": null,
      "overflow_x": null,
      "overflow_y": null,
      "padding": null,
      "right": null,
      "top": null,
      "visibility": null,
      "width": null
     }
    },
    "b6d2d87b1038443fafff1bd69c138507": {
     "model_module": "@jupyter-widgets/base",
     "model_module_version": "1.2.0",
     "model_name": "LayoutModel",
     "state": {
      "_model_module": "@jupyter-widgets/base",
      "_model_module_version": "1.2.0",
      "_model_name": "LayoutModel",
      "_view_count": null,
      "_view_module": "@jupyter-widgets/base",
      "_view_module_version": "1.2.0",
      "_view_name": "LayoutView",
      "align_content": null,
      "align_items": null,
      "align_self": null,
      "border": null,
      "bottom": null,
      "display": null,
      "flex": null,
      "flex_flow": null,
      "grid_area": null,
      "grid_auto_columns": null,
      "grid_auto_flow": null,
      "grid_auto_rows": null,
      "grid_column": null,
      "grid_gap": null,
      "grid_row": null,
      "grid_template_areas": null,
      "grid_template_columns": null,
      "grid_template_rows": null,
      "height": null,
      "justify_content": null,
      "justify_items": null,
      "left": null,
      "margin": null,
      "max_height": null,
      "max_width": null,
      "min_height": null,
      "min_width": null,
      "object_fit": null,
      "object_position": null,
      "order": null,
      "overflow": null,
      "overflow_x": null,
      "overflow_y": null,
      "padding": null,
      "right": null,
      "top": null,
      "visibility": null,
      "width": null
     }
    },
    "cc50281d7cff4e52947394e5b12611b0": {
     "model_module": "@jupyter-widgets/controls",
     "model_module_version": "1.5.0",
     "model_name": "ProgressStyleModel",
     "state": {
      "_model_module": "@jupyter-widgets/controls",
      "_model_module_version": "1.5.0",
      "_model_name": "ProgressStyleModel",
      "_view_count": null,
      "_view_module": "@jupyter-widgets/base",
      "_view_module_version": "1.2.0",
      "_view_name": "StyleView",
      "bar_color": null,
      "description_width": ""
     }
    },
    "cd4a015ff8b04c8e8d267bdfbbe3864c": {
     "model_module": "@jupyter-widgets/controls",
     "model_module_version": "1.5.0",
     "model_name": "HTMLModel",
     "state": {
      "_dom_classes": [],
      "_model_module": "@jupyter-widgets/controls",
      "_model_module_version": "1.5.0",
      "_model_name": "HTMLModel",
      "_view_count": null,
      "_view_module": "@jupyter-widgets/controls",
      "_view_module_version": "1.5.0",
      "_view_name": "HTMLView",
      "description": "",
      "description_tooltip": null,
      "layout": "IPY_MODEL_9027d121739e46108aa64acaa807c0ba",
      "placeholder": "​",
      "style": "IPY_MODEL_4290d0f0f4b34f16a05d888941f4619c",
      "value": " 0/10052 [00:00&lt;?, ?it/s]"
     }
    }
   }
  }
 },
 "nbformat": 4,
 "nbformat_minor": 4
}
