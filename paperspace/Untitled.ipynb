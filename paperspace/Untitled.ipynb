{
 "cells": [
  {
   "cell_type": "code",
   "execution_count": 1,
   "id": "563517f1",
   "metadata": {},
   "outputs": [],
   "source": [
    "import pandas as pd"
   ]
  },
  {
   "cell_type": "code",
   "execution_count": 15,
   "id": "bac60866",
   "metadata": {},
   "outputs": [],
   "source": [
    "mujeres = pd.read_csv(\"tweets_mujeres.csv\",index_col=\"Unnamed: 0\")\n",
    "hombres = pd.read_csv(\"tweets_hombres.csv\",index_col=\"Unnamed: 0\")"
   ]
  },
  {
   "cell_type": "code",
   "execution_count": 18,
   "id": "6b63b388",
   "metadata": {},
   "outputs": [],
   "source": [
    "mujeres = mujeres[\"tweet\"]"
   ]
  },
  {
   "cell_type": "code",
   "execution_count": 19,
   "id": "a5c68135",
   "metadata": {},
   "outputs": [],
   "source": [
    "hombres = hombres[\"tweet\"]"
   ]
  },
  {
   "cell_type": "code",
   "execution_count": 20,
   "id": "ec410492",
   "metadata": {},
   "outputs": [
    {
     "data": {
      "text/plain": [
       "False"
      ]
     },
     "execution_count": 20,
     "metadata": {},
     "output_type": "execute_result"
    }
   ],
   "source": []
  },
  {
   "cell_type": "markdown",
   "id": "c02d1cd5",
   "metadata": {},
   "source": [
    "Jaja = jajaja --> \n",
    "-equivalencias pragmáticas --> significado contextual distinto\n",
    "-significado semántico --> significado igual\n",
    "- \n",
    "\n",
    "(Cosas en teoría no existen pero ahí están y sí tienen un significado. Fenómeno pragmático.)\n"
   ]
  }
 ],
 "metadata": {
  "kernelspec": {
   "display_name": "Python 3 (ipykernel)",
   "language": "python",
   "name": "python3"
  },
  "language_info": {
   "codemirror_mode": {
    "name": "ipython",
    "version": 3
   },
   "file_extension": ".py",
   "mimetype": "text/x-python",
   "name": "python",
   "nbconvert_exporter": "python",
   "pygments_lexer": "ipython3",
   "version": "3.8.5"
  }
 },
 "nbformat": 4,
 "nbformat_minor": 5
}
